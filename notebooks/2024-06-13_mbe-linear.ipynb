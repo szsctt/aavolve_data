{
 "cells": [
  {
   "cell_type": "code",
   "execution_count": 1,
   "metadata": {},
   "outputs": [
    {
     "name": "stderr",
     "output_type": "stream",
     "text": [
      "Failed to detect the name of this notebook, you can set it manually with the WANDB_NOTEBOOK_NAME environment variable to enable code saving.\n",
      "\u001b[34m\u001b[1mwandb\u001b[0m: Currently logged in as: \u001b[33mszsctt\u001b[0m. Use \u001b[1m`wandb login --relogin`\u001b[0m to force relogin\n"
     ]
    }
   ],
   "source": [
    "import pandas as pd\n",
    "import numpy as np\n",
    "import glob\n",
    "import os\n",
    "import matplotlib.pyplot as plt\n",
    "import seaborn as sns\n",
    "import torch\n",
    "from torch.utils.data import Dataset, DataLoader\n",
    "from torch import nn\n",
    "from torch.nn import functional as F\n",
    "import lightning as L\n",
    "from lightning.pytorch.loggers import WandbLogger\n",
    "from scipy import stats\n",
    "\n",
    "# log into to wandb to log results\n",
    "import wandb\n",
    "wandb.login()\n",
    "\n",
    "datadir = '../out/corrected/counts'\n",
    "procdir = '../out/modelling/processed'\n",
    "BATCH_SIZE=64\n",
    "\n",
    "os.makedirs(procdir, exist_ok=True)\n",
    "np.random.seed(12345)\n",
    "rerun_encoding = False\n"
   ]
  },
  {
   "cell_type": "markdown",
   "metadata": {},
   "source": [
    "## Data import\n",
    "Load the r0 and r1 datasets."
   ]
  },
  {
   "cell_type": "code",
   "execution_count": 2,
   "metadata": {},
   "outputs": [
    {
     "data": {
      "text/plain": [
       "['../out/corrected/counts/r1_np-cc_gel-extract_aa-seq-counts.tsv.gz',\n",
       " '../out/corrected/counts/r0_np-cc_repeat_aa-seq-counts.tsv.gz',\n",
       " '../out/corrected/counts/r0_np-cc_gel-extract_aa-seq-counts.tsv.gz',\n",
       " '../out/corrected/counts/r1_np-cc_aa-seq-counts.tsv.gz',\n",
       " '../out/corrected/counts/r0_np-cc_aa-seq-counts.tsv.gz']"
      ]
     },
     "execution_count": 2,
     "metadata": {},
     "output_type": "execute_result"
    }
   ],
   "source": [
    "# get files to be imported\n",
    "files = glob.glob(os.path.join(datadir, 'r[0-1]_np-cc*aa-seq-counts.tsv.gz'))\n",
    "files"
   ]
  },
  {
   "cell_type": "code",
   "execution_count": 3,
   "metadata": {},
   "outputs": [
    {
     "data": {
      "text/html": [
       "<div>\n",
       "<style scoped>\n",
       "    .dataframe tbody tr th:only-of-type {\n",
       "        vertical-align: middle;\n",
       "    }\n",
       "\n",
       "    .dataframe tbody tr th {\n",
       "        vertical-align: top;\n",
       "    }\n",
       "\n",
       "    .dataframe thead th {\n",
       "        text-align: right;\n",
       "    }\n",
       "</style>\n",
       "<table border=\"1\" class=\"dataframe\">\n",
       "  <thead>\n",
       "    <tr style=\"text-align: right;\">\n",
       "      <th></th>\n",
       "      <th>round</th>\n",
       "      <th>sequence</th>\n",
       "      <th>count</th>\n",
       "    </tr>\n",
       "  </thead>\n",
       "  <tbody>\n",
       "    <tr>\n",
       "      <th>0</th>\n",
       "      <td>r0</td>\n",
       "      <td>MAADGYLPDWLEDNLSEGIREWWAFKPGAPKPKANQQKQDDGRGLV...</td>\n",
       "      <td>1</td>\n",
       "    </tr>\n",
       "    <tr>\n",
       "      <th>1</th>\n",
       "      <td>r0</td>\n",
       "      <td>MAADGYLPDWLEDNLSEGIREWWAFKPGAPKPKANQQKQDDGRGLV...</td>\n",
       "      <td>1</td>\n",
       "    </tr>\n",
       "    <tr>\n",
       "      <th>2</th>\n",
       "      <td>r0</td>\n",
       "      <td>MAADGYLPDWLEDNLSEGIREWWAFKPGAPQPKANQQHQDNARGLV...</td>\n",
       "      <td>1</td>\n",
       "    </tr>\n",
       "    <tr>\n",
       "      <th>3</th>\n",
       "      <td>r0</td>\n",
       "      <td>MAADGYLPDWLEDNLSEGIREWWAFKPGAPQPKANQQHQDNARGLV...</td>\n",
       "      <td>1</td>\n",
       "    </tr>\n",
       "    <tr>\n",
       "      <th>4</th>\n",
       "      <td>r0</td>\n",
       "      <td>MAADGYLPDWLEDNLSEGIREWWAFKPGAPQPKANQQHQDNARGLV...</td>\n",
       "      <td>1</td>\n",
       "    </tr>\n",
       "    <tr>\n",
       "      <th>...</th>\n",
       "      <td>...</td>\n",
       "      <td>...</td>\n",
       "      <td>...</td>\n",
       "    </tr>\n",
       "    <tr>\n",
       "      <th>1196904</th>\n",
       "      <td>r1</td>\n",
       "      <td>MAADGYLPDWLEDTLSEGIRQWWKLKPGVPQPKANQQKQDDGRGLV...</td>\n",
       "      <td>1</td>\n",
       "    </tr>\n",
       "    <tr>\n",
       "      <th>1196905</th>\n",
       "      <td>r1</td>\n",
       "      <td>MAADGYLPDWLEDTLSEGIRQWWKLKPGVPQPKANQQKQDDGRGLV...</td>\n",
       "      <td>1</td>\n",
       "    </tr>\n",
       "    <tr>\n",
       "      <th>1196906</th>\n",
       "      <td>r1</td>\n",
       "      <td>MAADGYLPDWLEDTLSEGIRQWWKLKPGVPQPKANQQKQDNRRGLV...</td>\n",
       "      <td>1</td>\n",
       "    </tr>\n",
       "    <tr>\n",
       "      <th>1196907</th>\n",
       "      <td>r1</td>\n",
       "      <td>MAADGYLPDWLEDTLSEGIRQWWKLKPGVPQPKPAERHKDDSRGLV...</td>\n",
       "      <td>1</td>\n",
       "    </tr>\n",
       "    <tr>\n",
       "      <th>1196908</th>\n",
       "      <td>r1</td>\n",
       "      <td>MAADGYLPDWLEDTLSEGISEWWKLKPGPPPPKPAERHKDDGRGLV...</td>\n",
       "      <td>1</td>\n",
       "    </tr>\n",
       "  </tbody>\n",
       "</table>\n",
       "<p>1196909 rows × 3 columns</p>\n",
       "</div>"
      ],
      "text/plain": [
       "        round                                           sequence  count\n",
       "0          r0  MAADGYLPDWLEDNLSEGIREWWAFKPGAPKPKANQQKQDDGRGLV...      1\n",
       "1          r0  MAADGYLPDWLEDNLSEGIREWWAFKPGAPKPKANQQKQDDGRGLV...      1\n",
       "2          r0  MAADGYLPDWLEDNLSEGIREWWAFKPGAPQPKANQQHQDNARGLV...      1\n",
       "3          r0  MAADGYLPDWLEDNLSEGIREWWAFKPGAPQPKANQQHQDNARGLV...      1\n",
       "4          r0  MAADGYLPDWLEDNLSEGIREWWAFKPGAPQPKANQQHQDNARGLV...      1\n",
       "...       ...                                                ...    ...\n",
       "1196904    r1  MAADGYLPDWLEDTLSEGIRQWWKLKPGVPQPKANQQKQDDGRGLV...      1\n",
       "1196905    r1  MAADGYLPDWLEDTLSEGIRQWWKLKPGVPQPKANQQKQDDGRGLV...      1\n",
       "1196906    r1  MAADGYLPDWLEDTLSEGIRQWWKLKPGVPQPKANQQKQDNRRGLV...      1\n",
       "1196907    r1  MAADGYLPDWLEDTLSEGIRQWWKLKPGVPQPKPAERHKDDSRGLV...      1\n",
       "1196908    r1  MAADGYLPDWLEDTLSEGISEWWKLKPGPPPPKPAERHKDDGRGLV...      1\n",
       "\n",
       "[1196909 rows x 3 columns]"
      ]
     },
     "execution_count": 3,
     "metadata": {},
     "output_type": "execute_result"
    }
   ],
   "source": [
    "# read tsv files\n",
    "df = pd.concat([pd.read_csv(f, sep='\\t').assign(round = os.path.basename(f)[:2]) for f in files], axis=0)\n",
    "\n",
    "# sum counts within each round\n",
    "df = df.groupby(['round', 'sequence']).sum().reset_index()\n",
    "\n",
    "df"
   ]
  },
  {
   "cell_type": "markdown",
   "metadata": {},
   "source": [
    "Count the number of unique sequences and total count in each round."
   ]
  },
  {
   "cell_type": "code",
   "execution_count": 4,
   "metadata": {},
   "outputs": [
    {
     "name": "stdout",
     "output_type": "stream",
     "text": [
      "Number of unique sequences in each round:\n"
     ]
    },
    {
     "data": {
      "text/plain": [
       "round\n",
       "r0    772738\n",
       "r1    424171\n",
       "dtype: int64"
      ]
     },
     "execution_count": 4,
     "metadata": {},
     "output_type": "execute_result"
    }
   ],
   "source": [
    "print(\"Number of unique sequences in each round:\")\n",
    "df.groupby('round').size()"
   ]
  },
  {
   "cell_type": "code",
   "execution_count": 5,
   "metadata": {},
   "outputs": [
    {
     "name": "stdout",
     "output_type": "stream",
     "text": [
      "Total count for each round:\n"
     ]
    },
    {
     "data": {
      "text/html": [
       "<div>\n",
       "<style scoped>\n",
       "    .dataframe tbody tr th:only-of-type {\n",
       "        vertical-align: middle;\n",
       "    }\n",
       "\n",
       "    .dataframe tbody tr th {\n",
       "        vertical-align: top;\n",
       "    }\n",
       "\n",
       "    .dataframe thead th {\n",
       "        text-align: right;\n",
       "    }\n",
       "</style>\n",
       "<table border=\"1\" class=\"dataframe\">\n",
       "  <thead>\n",
       "    <tr style=\"text-align: right;\">\n",
       "      <th></th>\n",
       "      <th>count</th>\n",
       "    </tr>\n",
       "    <tr>\n",
       "      <th>round</th>\n",
       "      <th></th>\n",
       "    </tr>\n",
       "  </thead>\n",
       "  <tbody>\n",
       "    <tr>\n",
       "      <th>r0</th>\n",
       "      <td>911631</td>\n",
       "    </tr>\n",
       "    <tr>\n",
       "      <th>r1</th>\n",
       "      <td>613756</td>\n",
       "    </tr>\n",
       "  </tbody>\n",
       "</table>\n",
       "</div>"
      ],
      "text/plain": [
       "        count\n",
       "round        \n",
       "r0     911631\n",
       "r1     613756"
      ]
     },
     "execution_count": 5,
     "metadata": {},
     "output_type": "execute_result"
    }
   ],
   "source": [
    "print(\"Total count for each round:\")\n",
    "total = (df\n",
    "         .drop('sequence', axis=1)\n",
    "         .groupby('round')\n",
    "         .sum()\n",
    "         )\n",
    "total"
   ]
  },
  {
   "cell_type": "markdown",
   "metadata": {},
   "source": [
    "We have a higher total count for r0 compared to r1.  We will need to take this into account during modelling by weighting the loss function.\n",
    "\n",
    "Plotting the CDF of counts for the two libraries"
   ]
  },
  {
   "cell_type": "code",
   "execution_count": 6,
   "metadata": {},
   "outputs": [
    {
     "data": {
      "text/plain": [
       "<Axes: xlabel='count', ylabel='Proportion'>"
      ]
     },
     "execution_count": 6,
     "metadata": {},
     "output_type": "execute_result"
    },
    {
     "data": {
      "image/png": "[encoded data removed]",
      "text/plain": [
       "<Figure size 640x480 with 1 Axes>"
      ]
     },
     "metadata": {},
     "output_type": "display_data"
    }
   ],
   "source": [
    "sns.ecdfplot(data=df, x='count', hue='round')"
   ]
  },
  {
   "cell_type": "code",
   "execution_count": 7,
   "metadata": {},
   "outputs": [
    {
     "data": {
      "image/png": "[encoded data removed]",
      "text/plain": [
       "<Figure size 640x480 with 1 Axes>"
      ]
     },
     "metadata": {},
     "output_type": "display_data"
    }
   ],
   "source": [
    "\n",
    "sns.ecdfplot(data=df, x='count', hue='round', )\n",
    "plt.xscale('log')"
   ]
  },
  {
   "cell_type": "markdown",
   "metadata": {},
   "source": [
    "## Train/test/eval sets\n",
    "We will need to remove a dataset for evaluation - I remove 20% of the unique sequences for evaluation of different kinds of models and 10% for a final testing set.  Most sequecnes have low counts, so we try to get some with high counts in each set. \n",
    "\n",
    "For this, we caculate a set of weights according to the model-based enrichment paper, and then include some observations with high and low weights.  The weights are caculated as follows:\n",
    "\n",
    "$$w_i = \\frac{1}{(2\\sigma_i^2)}$$\n",
    "\n",
    "where:\n",
    "\n",
    "$$\\sigma_i^2 = \\frac{1}{n_i^{r_1}}(1-\\frac{n_i^{r_1}}{\\sum_i n^{r_1}_i}) + \\frac{1}{n_i^{r_0}}(1-\\frac{n_i^{r_0}}{\\sum_i n^{r_0}_i})$$\n",
    "\n",
    "Where $n_i^{r_0}$ is the count for the $i^{th}$ sequence in the round 0 library, and $n_i^{r_1}$ is the count for the $i^{th}$ sequence in the round 1 library.  This value is high if the counts in both libraries are high, and low if the counts in both libraries are low.  First calculating this for each sequence, and plotting the distribution.\n",
    "\n",
    "We also need to add a pseudo-count of 1 to all observations for this quantitity to be defined."
   ]
  },
  {
   "cell_type": "code",
   "execution_count": 8,
   "metadata": {},
   "outputs": [
    {
     "data": {
      "text/html": [
       "<div>\n",
       "<style scoped>\n",
       "    .dataframe tbody tr th:only-of-type {\n",
       "        vertical-align: middle;\n",
       "    }\n",
       "\n",
       "    .dataframe tbody tr th {\n",
       "        vertical-align: top;\n",
       "    }\n",
       "\n",
       "    .dataframe thead th {\n",
       "        text-align: right;\n",
       "    }\n",
       "</style>\n",
       "<table border=\"1\" class=\"dataframe\">\n",
       "  <thead>\n",
       "    <tr style=\"text-align: right;\">\n",
       "      <th>round</th>\n",
       "      <th>sequence</th>\n",
       "      <th>r0</th>\n",
       "      <th>r1</th>\n",
       "      <th>le</th>\n",
       "      <th>sig</th>\n",
       "      <th>weight</th>\n",
       "    </tr>\n",
       "  </thead>\n",
       "  <tbody>\n",
       "    <tr>\n",
       "      <th>0</th>\n",
       "      <td>MAADGYLPDWLEDNLSEGIREWWAFKPGAPKPKANQQKQDDGRGLV...</td>\n",
       "      <td>2.0</td>\n",
       "      <td>1.0</td>\n",
       "      <td>-0.777280</td>\n",
       "      <td>1.499999</td>\n",
       "      <td>0.333334</td>\n",
       "    </tr>\n",
       "    <tr>\n",
       "      <th>1</th>\n",
       "      <td>MAADGYLPDWLEDNLSEGIREWWAFKPGAPKPKANQQKQDDGRGLV...</td>\n",
       "      <td>2.0</td>\n",
       "      <td>1.0</td>\n",
       "      <td>-0.777280</td>\n",
       "      <td>1.499999</td>\n",
       "      <td>0.333334</td>\n",
       "    </tr>\n",
       "    <tr>\n",
       "      <th>2</th>\n",
       "      <td>MAADGYLPDWLEDNLSEGIREWWAFKPGAPKPKANQQKQDDGRGLV...</td>\n",
       "      <td>1.0</td>\n",
       "      <td>2.0</td>\n",
       "      <td>1.222720</td>\n",
       "      <td>1.499999</td>\n",
       "      <td>0.333334</td>\n",
       "    </tr>\n",
       "    <tr>\n",
       "      <th>3</th>\n",
       "      <td>MAADGYLPDWLEDNLSEGIREWWAFKPGAPQPKANQQHQDNARGLV...</td>\n",
       "      <td>2.0</td>\n",
       "      <td>1.0</td>\n",
       "      <td>-0.777280</td>\n",
       "      <td>1.499999</td>\n",
       "      <td>0.333334</td>\n",
       "    </tr>\n",
       "    <tr>\n",
       "      <th>4</th>\n",
       "      <td>MAADGYLPDWLEDNLSEGIREWWAFKPGAPQPKANQQHQDNARGLV...</td>\n",
       "      <td>2.0</td>\n",
       "      <td>1.0</td>\n",
       "      <td>-0.777280</td>\n",
       "      <td>1.499999</td>\n",
       "      <td>0.333334</td>\n",
       "    </tr>\n",
       "    <tr>\n",
       "      <th>...</th>\n",
       "      <td>...</td>\n",
       "      <td>...</td>\n",
       "      <td>...</td>\n",
       "      <td>...</td>\n",
       "      <td>...</td>\n",
       "      <td>...</td>\n",
       "    </tr>\n",
       "    <tr>\n",
       "      <th>1170654</th>\n",
       "      <td>MAADGYLPDWLEDTLSEGIRQWWKLKPGVPQPKPAERHKDDSRGLV...</td>\n",
       "      <td>3.0</td>\n",
       "      <td>1.0</td>\n",
       "      <td>-1.362243</td>\n",
       "      <td>1.333332</td>\n",
       "      <td>0.375000</td>\n",
       "    </tr>\n",
       "    <tr>\n",
       "      <th>1170655</th>\n",
       "      <td>MAADGYLPDWLEDTLSEGIRQWWKLKPGVPQPKPAERHKDDSRGLV...</td>\n",
       "      <td>3.0</td>\n",
       "      <td>1.0</td>\n",
       "      <td>-1.362243</td>\n",
       "      <td>1.333332</td>\n",
       "      <td>0.375000</td>\n",
       "    </tr>\n",
       "    <tr>\n",
       "      <th>1170656</th>\n",
       "      <td>MAADGYLPDWLEDTLSEGIRQWWKLKPGVPQPKPAERHKDDSRGLV...</td>\n",
       "      <td>2.0</td>\n",
       "      <td>1.0</td>\n",
       "      <td>-0.777280</td>\n",
       "      <td>1.499999</td>\n",
       "      <td>0.333334</td>\n",
       "    </tr>\n",
       "    <tr>\n",
       "      <th>1170657</th>\n",
       "      <td>MAADGYLPDWLEDTLSEGIRQWWKLKPGVPQPKPAERHKDDSRGLV...</td>\n",
       "      <td>1.0</td>\n",
       "      <td>2.0</td>\n",
       "      <td>1.222720</td>\n",
       "      <td>1.499999</td>\n",
       "      <td>0.333334</td>\n",
       "    </tr>\n",
       "    <tr>\n",
       "      <th>1170658</th>\n",
       "      <td>MAADGYLPDWLEDTLSEGISEWWKLKPGPPPPKPAERHKDDGRGLV...</td>\n",
       "      <td>1.0</td>\n",
       "      <td>2.0</td>\n",
       "      <td>1.222720</td>\n",
       "      <td>1.499999</td>\n",
       "      <td>0.333334</td>\n",
       "    </tr>\n",
       "  </tbody>\n",
       "</table>\n",
       "<p>1170659 rows × 6 columns</p>\n",
       "</div>"
      ],
      "text/plain": [
       "round                                             sequence   r0   r1  \\\n",
       "0        MAADGYLPDWLEDNLSEGIREWWAFKPGAPKPKANQQKQDDGRGLV...  2.0  1.0   \n",
       "1        MAADGYLPDWLEDNLSEGIREWWAFKPGAPKPKANQQKQDDGRGLV...  2.0  1.0   \n",
       "2        MAADGYLPDWLEDNLSEGIREWWAFKPGAPKPKANQQKQDDGRGLV...  1.0  2.0   \n",
       "3        MAADGYLPDWLEDNLSEGIREWWAFKPGAPQPKANQQHQDNARGLV...  2.0  1.0   \n",
       "4        MAADGYLPDWLEDNLSEGIREWWAFKPGAPQPKANQQHQDNARGLV...  2.0  1.0   \n",
       "...                                                    ...  ...  ...   \n",
       "1170654  MAADGYLPDWLEDTLSEGIRQWWKLKPGVPQPKPAERHKDDSRGLV...  3.0  1.0   \n",
       "1170655  MAADGYLPDWLEDTLSEGIRQWWKLKPGVPQPKPAERHKDDSRGLV...  3.0  1.0   \n",
       "1170656  MAADGYLPDWLEDTLSEGIRQWWKLKPGVPQPKPAERHKDDSRGLV...  2.0  1.0   \n",
       "1170657  MAADGYLPDWLEDTLSEGIRQWWKLKPGVPQPKPAERHKDDSRGLV...  1.0  2.0   \n",
       "1170658  MAADGYLPDWLEDTLSEGISEWWKLKPGPPPPKPAERHKDDGRGLV...  1.0  2.0   \n",
       "\n",
       "round          le       sig    weight  \n",
       "0       -0.777280  1.499999  0.333334  \n",
       "1       -0.777280  1.499999  0.333334  \n",
       "2        1.222720  1.499999  0.333334  \n",
       "3       -0.777280  1.499999  0.333334  \n",
       "4       -0.777280  1.499999  0.333334  \n",
       "...           ...       ...       ...  \n",
       "1170654 -1.362243  1.333332  0.375000  \n",
       "1170655 -1.362243  1.333332  0.375000  \n",
       "1170656 -0.777280  1.499999  0.333334  \n",
       "1170657  1.222720  1.499999  0.333334  \n",
       "1170658  1.222720  1.499999  0.333334  \n",
       "\n",
       "[1170659 rows x 6 columns]"
      ]
     },
     "execution_count": 8,
     "metadata": {},
     "output_type": "execute_result"
    }
   ],
   "source": [
    "pseduo = 1\n",
    "df_unique = (df\n",
    "             # add pseudocunt\n",
    "             .assign(count = lambda x: x['count'] + pseduo)\n",
    "             # r0 and 1 counts in separate columns\n",
    "             .pivot(index='sequence', columns='round', values='count')\n",
    "             .fillna(pseduo)\n",
    "             .reset_index()\n",
    "             # calculate log enrichment and weights as per MBE paper\n",
    "             .assign(\n",
    "                le = lambda x: np.log2((x['r1']/x['r1'].sum())/(x['r0']/x['r0'].sum())),\n",
    "                sig = lambda x: 1/x['r1']*(1-x['r1']/(x['r1'].sum())) + 1/x['r0']*(1-x['r0']/(x['r0'].sum())),\n",
    "                weight = lambda x: 1/(2*x['sig']),\n",
    "                     )\n",
    "             )\n",
    "df_unique"
   ]
  },
  {
   "cell_type": "code",
   "execution_count": 9,
   "metadata": {},
   "outputs": [
    {
     "data": {
      "text/plain": [
       "<Axes: xlabel='sig', ylabel='Proportion'>"
      ]
     },
     "execution_count": 9,
     "metadata": {},
     "output_type": "execute_result"
    },
    {
     "data": {
      "image/png": "[encoded data removed]",
      "text/plain": [
       "<Figure size 640x480 with 1 Axes>"
      ]
     },
     "metadata": {},
     "output_type": "display_data"
    }
   ],
   "source": [
    "sns.ecdfplot(data = df_unique, x = \"sig\")"
   ]
  },
  {
   "cell_type": "code",
   "execution_count": 10,
   "metadata": {},
   "outputs": [
    {
     "data": {
      "text/plain": [
       "<Axes: xlabel='weight', ylabel='Proportion'>"
      ]
     },
     "execution_count": 10,
     "metadata": {},
     "output_type": "execute_result"
    },
    {
     "data": {
      "image/png": "[encoded data removed]",
      "text/plain": [
       "<Figure size 640x480 with 1 Axes>"
      ]
     },
     "metadata": {},
     "output_type": "display_data"
    }
   ],
   "source": [
    "sns.ecdfplot(data=df_unique, x='weight')"
   ]
  },
  {
   "cell_type": "markdown",
   "metadata": {},
   "source": [
    "Computing quantiles for the numeric columns will give us an idea of where might be a good threshold for high and low counts."
   ]
  },
  {
   "cell_type": "code",
   "execution_count": 11,
   "metadata": {},
   "outputs": [
    {
     "data": {
      "text/html": [
       "<div>\n",
       "<style scoped>\n",
       "    .dataframe tbody tr th:only-of-type {\n",
       "        vertical-align: middle;\n",
       "    }\n",
       "\n",
       "    .dataframe tbody tr th {\n",
       "        vertical-align: top;\n",
       "    }\n",
       "\n",
       "    .dataframe thead th {\n",
       "        text-align: right;\n",
       "    }\n",
       "</style>\n",
       "<table border=\"1\" class=\"dataframe\">\n",
       "  <thead>\n",
       "    <tr style=\"text-align: right;\">\n",
       "      <th>round</th>\n",
       "      <th>r0</th>\n",
       "      <th>r1</th>\n",
       "      <th>le</th>\n",
       "      <th>sig</th>\n",
       "      <th>weight</th>\n",
       "    </tr>\n",
       "  </thead>\n",
       "  <tbody>\n",
       "    <tr>\n",
       "      <th>0.00</th>\n",
       "      <td>1.0</td>\n",
       "      <td>1.0</td>\n",
       "      <td>-6.696143</td>\n",
       "      <td>0.007257</td>\n",
       "      <td>0.333334</td>\n",
       "    </tr>\n",
       "    <tr>\n",
       "      <th>0.05</th>\n",
       "      <td>1.0</td>\n",
       "      <td>1.0</td>\n",
       "      <td>-1.362243</td>\n",
       "      <td>1.333332</td>\n",
       "      <td>0.333334</td>\n",
       "    </tr>\n",
       "    <tr>\n",
       "      <th>0.10</th>\n",
       "      <td>1.0</td>\n",
       "      <td>1.0</td>\n",
       "      <td>-0.777280</td>\n",
       "      <td>1.333332</td>\n",
       "      <td>0.333334</td>\n",
       "    </tr>\n",
       "    <tr>\n",
       "      <th>0.15</th>\n",
       "      <td>1.0</td>\n",
       "      <td>1.0</td>\n",
       "      <td>-0.777280</td>\n",
       "      <td>1.499999</td>\n",
       "      <td>0.333334</td>\n",
       "    </tr>\n",
       "    <tr>\n",
       "      <th>0.20</th>\n",
       "      <td>1.0</td>\n",
       "      <td>1.0</td>\n",
       "      <td>-0.777280</td>\n",
       "      <td>1.499999</td>\n",
       "      <td>0.333334</td>\n",
       "    </tr>\n",
       "    <tr>\n",
       "      <th>0.25</th>\n",
       "      <td>1.0</td>\n",
       "      <td>1.0</td>\n",
       "      <td>-0.777280</td>\n",
       "      <td>1.499999</td>\n",
       "      <td>0.333334</td>\n",
       "    </tr>\n",
       "    <tr>\n",
       "      <th>0.30</th>\n",
       "      <td>1.0</td>\n",
       "      <td>1.0</td>\n",
       "      <td>-0.777280</td>\n",
       "      <td>1.499999</td>\n",
       "      <td>0.333334</td>\n",
       "    </tr>\n",
       "    <tr>\n",
       "      <th>0.35</th>\n",
       "      <td>2.0</td>\n",
       "      <td>1.0</td>\n",
       "      <td>-0.777280</td>\n",
       "      <td>1.499999</td>\n",
       "      <td>0.333334</td>\n",
       "    </tr>\n",
       "    <tr>\n",
       "      <th>0.40</th>\n",
       "      <td>2.0</td>\n",
       "      <td>1.0</td>\n",
       "      <td>-0.777280</td>\n",
       "      <td>1.499999</td>\n",
       "      <td>0.333334</td>\n",
       "    </tr>\n",
       "    <tr>\n",
       "      <th>0.45</th>\n",
       "      <td>2.0</td>\n",
       "      <td>1.0</td>\n",
       "      <td>-0.777280</td>\n",
       "      <td>1.499999</td>\n",
       "      <td>0.333334</td>\n",
       "    </tr>\n",
       "    <tr>\n",
       "      <th>0.50</th>\n",
       "      <td>2.0</td>\n",
       "      <td>1.0</td>\n",
       "      <td>-0.777280</td>\n",
       "      <td>1.499999</td>\n",
       "      <td>0.333334</td>\n",
       "    </tr>\n",
       "    <tr>\n",
       "      <th>0.55</th>\n",
       "      <td>2.0</td>\n",
       "      <td>1.0</td>\n",
       "      <td>-0.777280</td>\n",
       "      <td>1.499999</td>\n",
       "      <td>0.333334</td>\n",
       "    </tr>\n",
       "    <tr>\n",
       "      <th>0.60</th>\n",
       "      <td>2.0</td>\n",
       "      <td>1.0</td>\n",
       "      <td>-0.777280</td>\n",
       "      <td>1.499999</td>\n",
       "      <td>0.333334</td>\n",
       "    </tr>\n",
       "    <tr>\n",
       "      <th>0.65</th>\n",
       "      <td>2.0</td>\n",
       "      <td>2.0</td>\n",
       "      <td>0.222720</td>\n",
       "      <td>1.499999</td>\n",
       "      <td>0.333334</td>\n",
       "    </tr>\n",
       "    <tr>\n",
       "      <th>0.70</th>\n",
       "      <td>2.0</td>\n",
       "      <td>2.0</td>\n",
       "      <td>1.222720</td>\n",
       "      <td>1.499999</td>\n",
       "      <td>0.333334</td>\n",
       "    </tr>\n",
       "    <tr>\n",
       "      <th>0.75</th>\n",
       "      <td>2.0</td>\n",
       "      <td>2.0</td>\n",
       "      <td>1.222720</td>\n",
       "      <td>1.499999</td>\n",
       "      <td>0.333334</td>\n",
       "    </tr>\n",
       "    <tr>\n",
       "      <th>0.80</th>\n",
       "      <td>2.0</td>\n",
       "      <td>2.0</td>\n",
       "      <td>1.222720</td>\n",
       "      <td>1.499999</td>\n",
       "      <td>0.333334</td>\n",
       "    </tr>\n",
       "    <tr>\n",
       "      <th>0.85</th>\n",
       "      <td>2.0</td>\n",
       "      <td>2.0</td>\n",
       "      <td>1.222720</td>\n",
       "      <td>1.499999</td>\n",
       "      <td>0.333334</td>\n",
       "    </tr>\n",
       "    <tr>\n",
       "      <th>0.90</th>\n",
       "      <td>2.0</td>\n",
       "      <td>2.0</td>\n",
       "      <td>1.222720</td>\n",
       "      <td>1.499999</td>\n",
       "      <td>0.375000</td>\n",
       "    </tr>\n",
       "    <tr>\n",
       "      <th>0.95</th>\n",
       "      <td>3.0</td>\n",
       "      <td>3.0</td>\n",
       "      <td>1.807682</td>\n",
       "      <td>1.499999</td>\n",
       "      <td>0.375000</td>\n",
       "    </tr>\n",
       "  </tbody>\n",
       "</table>\n",
       "</div>"
      ],
      "text/plain": [
       "round   r0   r1        le       sig    weight\n",
       "0.00   1.0  1.0 -6.696143  0.007257  0.333334\n",
       "0.05   1.0  1.0 -1.362243  1.333332  0.333334\n",
       "0.10   1.0  1.0 -0.777280  1.333332  0.333334\n",
       "0.15   1.0  1.0 -0.777280  1.499999  0.333334\n",
       "0.20   1.0  1.0 -0.777280  1.499999  0.333334\n",
       "0.25   1.0  1.0 -0.777280  1.499999  0.333334\n",
       "0.30   1.0  1.0 -0.777280  1.499999  0.333334\n",
       "0.35   2.0  1.0 -0.777280  1.499999  0.333334\n",
       "0.40   2.0  1.0 -0.777280  1.499999  0.333334\n",
       "0.45   2.0  1.0 -0.777280  1.499999  0.333334\n",
       "0.50   2.0  1.0 -0.777280  1.499999  0.333334\n",
       "0.55   2.0  1.0 -0.777280  1.499999  0.333334\n",
       "0.60   2.0  1.0 -0.777280  1.499999  0.333334\n",
       "0.65   2.0  2.0  0.222720  1.499999  0.333334\n",
       "0.70   2.0  2.0  1.222720  1.499999  0.333334\n",
       "0.75   2.0  2.0  1.222720  1.499999  0.333334\n",
       "0.80   2.0  2.0  1.222720  1.499999  0.333334\n",
       "0.85   2.0  2.0  1.222720  1.499999  0.333334\n",
       "0.90   2.0  2.0  1.222720  1.499999  0.375000\n",
       "0.95   3.0  3.0  1.807682  1.499999  0.375000"
      ]
     },
     "execution_count": 11,
     "metadata": {},
     "output_type": "execute_result"
    }
   ],
   "source": [
    "df_unique.quantile(np.arange(0, 1, 0.05), numeric_only=True)"
   ]
  },
  {
   "cell_type": "markdown",
   "metadata": {},
   "source": [
    "These weights have a very skewed distribution (as do the counts) - this might be an issue for modelling, since only a few high-count sequences will dominate the results. \n",
    "\n",
    "It would be good to try to keep the test and eval sets roughly balanced, with sequences with high and low weights. For this, we will take equal numbers of sequences from the top 10% and the bottom 90%.  We will need to keep these sets small, since otherwise we'll be removing most of the training data. I'll define 'high-confidence' sequences those weights equal to or higher than 1, and 'low-confidence' sequences those with weights lower than 1.  I'll take 50 sequences from each set for each of the eval and test sets.\n",
    "\n",
    "First, checking how many 'high-confidence' and 'low-confidence' sequences we have with this threshold:"
   ]
  },
  {
   "cell_type": "code",
   "execution_count": 12,
   "metadata": {},
   "outputs": [
    {
     "data": {
      "text/plain": [
       "set\n",
       "low     1166424\n",
       "high       4235\n",
       "Name: count, dtype: int64"
      ]
     },
     "execution_count": 12,
     "metadata": {},
     "output_type": "execute_result"
    }
   ],
   "source": [
    "thresh = 1\n",
    "df_unique = df_unique.assign(set = lambda x: ['high' if w >= thresh else 'low' for w in x['weight']])\n",
    "df_unique.value_counts('set')"
   ]
  },
  {
   "cell_type": "code",
   "execution_count": 13,
   "metadata": {},
   "outputs": [
    {
     "data": {
      "text/plain": [
       "(set\n",
       " high    50\n",
       " low     50\n",
       " Name: count, dtype: int64,\n",
       " set\n",
       " high    50\n",
       " low     50\n",
       " Name: count, dtype: int64,\n",
       " set\n",
       " low     1166324\n",
       " high       4135\n",
       " Name: count, dtype: int64)"
      ]
     },
     "execution_count": 13,
     "metadata": {},
     "output_type": "execute_result"
    }
   ],
   "source": [
    "df_test_eval = df_unique.sample(frac=1).groupby('set').head(100)\n",
    "df_test = df_test_eval.groupby('set').head(50)\n",
    "\n",
    "# remove test set from evaluation set\n",
    "df_eval = df_test_eval[~df_test_eval['sequence'].isin(df_test['sequence'])]\n",
    "df_train = df_unique[~df_unique['sequence'].isin(df_test_eval['sequence'])]\n",
    "\n",
    "# check we have 50 sequences in each set, and remainder in training set\n",
    "df_eval.value_counts('set'), df_test.value_counts('set'), df_train.value_counts('set')"
   ]
  },
  {
   "cell_type": "markdown",
   "metadata": {},
   "source": [
    "## Encoding sequences\n",
    "\n",
    "In this case I one-hot encode the data.  It's more effecient to encode the unique sequences rather than the full training set for model-based enrichment, so I'll do this now and save the results."
   ]
  },
  {
   "cell_type": "code",
   "execution_count": 14,
   "metadata": {},
   "outputs": [
    {
     "data": {
      "text/plain": [
       "array([1., 0., 0., 0., 0., 0., 0., 0., 0., 0., 0., 0., 0., 0., 0., 0., 0.,\n",
       "       0., 0., 0., 0., 0., 1., 0., 0., 0., 0., 0., 0., 0., 0., 0., 0., 0.,\n",
       "       0., 0., 0., 0., 0., 0., 0., 0., 0., 0., 1., 0., 0., 0., 0., 0., 0.,\n",
       "       0., 0., 0., 0., 0., 0., 0., 0., 0., 0., 0., 0., 0., 0., 0., 0., 0.,\n",
       "       0., 0., 0., 0., 0., 0., 0., 0., 0., 0., 0., 0., 0., 0., 0., 0., 0.,\n",
       "       0., 0., 0., 0., 0., 0., 0., 0., 0., 0., 0., 0., 0., 0., 0., 0., 0.,\n",
       "       0., 0., 0.])"
      ]
     },
     "execution_count": 14,
     "metadata": {},
     "output_type": "execute_result"
    }
   ],
   "source": [
    "aas = [i for i in 'ACDEFGHIKLMNPQRSTVWY*']\n",
    "def one_hot(seq, max_l):\n",
    "    \"\"\"\n",
    "    One hot encode a sequence of amino acids\n",
    "    \"\"\"\n",
    "    out = np.zeros((max_l, len(aas)))\n",
    "    for i in range(max_l):\n",
    "        if i < len(seq):\n",
    "            out[i, aas.index(seq[i])] = 1\n",
    "    return out.flatten()\n",
    "\n",
    "one_hot('ACD', 5)\n"
   ]
  },
  {
   "cell_type": "code",
   "execution_count": 15,
   "metadata": {},
   "outputs": [],
   "source": [
    "# encode datasets\n",
    "def encode(df, max_seq_length):\n",
    "    df = (df\n",
    "          .assign(encoded = df['sequence'].apply(lambda x: one_hot(x, max_seq_length)))\n",
    "          .drop('sequence', axis=1)\n",
    "          )\n",
    "    return df\n",
    "\n",
    "if not os.path.exists(os.path.join(procdir, 'train_onehot.pkl')) or rerun_encoding:\n",
    "    max_seq_length = df_unique['sequence'].str.len().max() + 10\n",
    "    df_train = encode(df_train, max_seq_length)\n",
    "    df_eval = encode(df_eval, max_seq_length)\n",
    "    df_test = encode(df_test, max_seq_length)\n",
    "    \n",
    "    # save data\n",
    "    df_train.to_pickle(os.path.join(procdir, 'train_onehot.pkl'))\n",
    "    df_eval.to_pickle(os.path.join(procdir, 'eval_onehot.pkl'))\n",
    "    df_test.to_pickle(os.path.join(procdir, 'test_onehot.pkl'))\n",
    "\n",
    "else:\n",
    "    #df_train = pd.read_pickle(os.path.join(procdir, 'train.pkl')) # too large\n",
    "    df_eval = pd.read_pickle(os.path.join(procdir, 'eval_onehot.pkl'))\n",
    "    df_test = pd.read_pickle(os.path.join(procdir, 'test_onehot.pkl'))"
   ]
  },
  {
   "cell_type": "markdown",
   "metadata": {},
   "source": [
    "## Model-based enrichment dataset\n",
    "\n",
    "For model based enrichment, we create a dataset where we sample sequences the number of times they were seen in each selection round.  For each sample, the sequence is labelled according to which round it appeared in: -1 for r0 and +1 for r1.  For example, if we have a sequence that was seen once in r0 and twice in r1, it would appear in the final dataset once with a label of -1 and twice with a label of +1.\n",
    "\n",
    "The evaluation set would look like this:"
   ]
  },
  {
   "cell_type": "code",
   "execution_count": 16,
   "metadata": {},
   "outputs": [
    {
     "data": {
      "text/html": [
       "<div>\n",
       "<style scoped>\n",
       "    .dataframe tbody tr th:only-of-type {\n",
       "        vertical-align: middle;\n",
       "    }\n",
       "\n",
       "    .dataframe tbody tr th {\n",
       "        vertical-align: top;\n",
       "    }\n",
       "\n",
       "    .dataframe thead th {\n",
       "        text-align: right;\n",
       "    }\n",
       "</style>\n",
       "<table border=\"1\" class=\"dataframe\">\n",
       "  <thead>\n",
       "    <tr style=\"text-align: right;\">\n",
       "      <th></th>\n",
       "      <th>encoded</th>\n",
       "      <th>round</th>\n",
       "      <th>count</th>\n",
       "      <th>label</th>\n",
       "    </tr>\n",
       "  </thead>\n",
       "  <tbody>\n",
       "    <tr>\n",
       "      <th>0</th>\n",
       "      <td>[0.0, 0.0, 0.0, 0.0, 0.0, 0.0, 0.0, 0.0, 0.0, ...</td>\n",
       "      <td>r0</td>\n",
       "      <td>2.0</td>\n",
       "      <td>0</td>\n",
       "    </tr>\n",
       "    <tr>\n",
       "      <th>0</th>\n",
       "      <td>[0.0, 0.0, 0.0, 0.0, 0.0, 0.0, 0.0, 0.0, 0.0, ...</td>\n",
       "      <td>r0</td>\n",
       "      <td>2.0</td>\n",
       "      <td>0</td>\n",
       "    </tr>\n",
       "    <tr>\n",
       "      <th>1</th>\n",
       "      <td>[0.0, 0.0, 0.0, 0.0, 0.0, 0.0, 0.0, 0.0, 0.0, ...</td>\n",
       "      <td>r0</td>\n",
       "      <td>1.0</td>\n",
       "      <td>0</td>\n",
       "    </tr>\n",
       "    <tr>\n",
       "      <th>2</th>\n",
       "      <td>[0.0, 0.0, 0.0, 0.0, 0.0, 0.0, 0.0, 0.0, 0.0, ...</td>\n",
       "      <td>r0</td>\n",
       "      <td>2.0</td>\n",
       "      <td>0</td>\n",
       "    </tr>\n",
       "    <tr>\n",
       "      <th>2</th>\n",
       "      <td>[0.0, 0.0, 0.0, 0.0, 0.0, 0.0, 0.0, 0.0, 0.0, ...</td>\n",
       "      <td>r0</td>\n",
       "      <td>2.0</td>\n",
       "      <td>0</td>\n",
       "    </tr>\n",
       "    <tr>\n",
       "      <th>...</th>\n",
       "      <td>...</td>\n",
       "      <td>...</td>\n",
       "      <td>...</td>\n",
       "      <td>...</td>\n",
       "    </tr>\n",
       "    <tr>\n",
       "      <th>199</th>\n",
       "      <td>[0.0, 0.0, 0.0, 0.0, 0.0, 0.0, 0.0, 0.0, 0.0, ...</td>\n",
       "      <td>r1</td>\n",
       "      <td>20.0</td>\n",
       "      <td>1</td>\n",
       "    </tr>\n",
       "    <tr>\n",
       "      <th>199</th>\n",
       "      <td>[0.0, 0.0, 0.0, 0.0, 0.0, 0.0, 0.0, 0.0, 0.0, ...</td>\n",
       "      <td>r1</td>\n",
       "      <td>20.0</td>\n",
       "      <td>1</td>\n",
       "    </tr>\n",
       "    <tr>\n",
       "      <th>199</th>\n",
       "      <td>[0.0, 0.0, 0.0, 0.0, 0.0, 0.0, 0.0, 0.0, 0.0, ...</td>\n",
       "      <td>r1</td>\n",
       "      <td>20.0</td>\n",
       "      <td>1</td>\n",
       "    </tr>\n",
       "    <tr>\n",
       "      <th>199</th>\n",
       "      <td>[0.0, 0.0, 0.0, 0.0, 0.0, 0.0, 0.0, 0.0, 0.0, ...</td>\n",
       "      <td>r1</td>\n",
       "      <td>20.0</td>\n",
       "      <td>1</td>\n",
       "    </tr>\n",
       "    <tr>\n",
       "      <th>199</th>\n",
       "      <td>[0.0, 0.0, 0.0, 0.0, 0.0, 0.0, 0.0, 0.0, 0.0, ...</td>\n",
       "      <td>r1</td>\n",
       "      <td>20.0</td>\n",
       "      <td>1</td>\n",
       "    </tr>\n",
       "  </tbody>\n",
       "</table>\n",
       "<p>1058 rows × 4 columns</p>\n",
       "</div>"
      ],
      "text/plain": [
       "                                               encoded round  count  label\n",
       "0    [0.0, 0.0, 0.0, 0.0, 0.0, 0.0, 0.0, 0.0, 0.0, ...    r0    2.0      0\n",
       "0    [0.0, 0.0, 0.0, 0.0, 0.0, 0.0, 0.0, 0.0, 0.0, ...    r0    2.0      0\n",
       "1    [0.0, 0.0, 0.0, 0.0, 0.0, 0.0, 0.0, 0.0, 0.0, ...    r0    1.0      0\n",
       "2    [0.0, 0.0, 0.0, 0.0, 0.0, 0.0, 0.0, 0.0, 0.0, ...    r0    2.0      0\n",
       "2    [0.0, 0.0, 0.0, 0.0, 0.0, 0.0, 0.0, 0.0, 0.0, ...    r0    2.0      0\n",
       "..                                                 ...   ...    ...    ...\n",
       "199  [0.0, 0.0, 0.0, 0.0, 0.0, 0.0, 0.0, 0.0, 0.0, ...    r1   20.0      1\n",
       "199  [0.0, 0.0, 0.0, 0.0, 0.0, 0.0, 0.0, 0.0, 0.0, ...    r1   20.0      1\n",
       "199  [0.0, 0.0, 0.0, 0.0, 0.0, 0.0, 0.0, 0.0, 0.0, ...    r1   20.0      1\n",
       "199  [0.0, 0.0, 0.0, 0.0, 0.0, 0.0, 0.0, 0.0, 0.0, ...    r1   20.0      1\n",
       "199  [0.0, 0.0, 0.0, 0.0, 0.0, 0.0, 0.0, 0.0, 0.0, ...    r1   20.0      1\n",
       "\n",
       "[1058 rows x 4 columns]"
      ]
     },
     "execution_count": 16,
     "metadata": {},
     "output_type": "execute_result"
    }
   ],
   "source": [
    "# add labels to data based on if the sequence base observed in the r0 and r1 libraries\n",
    "df_example = (df_eval\n",
    "                .loc[:, ['encoded', 'r0', 'r1']]\n",
    "                .melt(id_vars = 'encoded', value_vars = ['r0', 'r1'], var_name = 'round', value_name = 'count')\n",
    "                .assign(label = lambda x: (x['round'] == 'r1').astype(int))\n",
    "                )\n",
    "\n",
    "# sample sequences according to their count\n",
    "df_example = df_example.reindex(df_example.index.repeat(df_example['count']))\n",
    "\n",
    "df_example"
   ]
  },
  {
   "cell_type": "markdown",
   "metadata": {},
   "source": [
    "## Dataloader\n",
    "\n",
    "Creating a dataset and dataloader class for these datasets.  I wrap some of the code from earlier in a lightning data module class."
   ]
  },
  {
   "cell_type": "code",
   "execution_count": 17,
   "metadata": {},
   "outputs": [
    {
     "data": {
      "text/plain": [
       "(array([0., 0., 0., ..., 0., 0., 0.]), 0.0)"
      ]
     },
     "execution_count": 17,
     "metadata": {},
     "output_type": "execute_result"
    }
   ],
   "source": [
    "class MBEDataset(Dataset):\n",
    "\n",
    "    def __init__(self, df):\n",
    "        self.df_raw = df\n",
    "        self.df = self.create_mbe_dataset(df)\n",
    "    \n",
    "    def create_mbe_dataset(self, df):\n",
    "\n",
    "        df = (df\n",
    "              .loc[:, ['encoded', 'r0', 'r1']]\n",
    "              .melt(id_vars=['encoded'], value_vars=['r0', 'r1'], var_name='round', value_name='value')\n",
    "              .assign(label = lambda x: (x['round'] == 'r1').astype(int))\n",
    "        )\n",
    "        df = df.reindex(df.index.repeat(df['value'])).reset_index()\n",
    "\n",
    "        return df\n",
    "\n",
    "    def get_weights(self):\n",
    "        \"\"\"\n",
    "        Number of examples in each class\n",
    "        \"\"\"\n",
    "        counts = (self.df\n",
    "                .groupby('label')\n",
    "                .size()\n",
    "               )\n",
    "        return torch.tensor(counts.loc[1] / counts.loc[0], dtype=torch.float64)\n",
    "\n",
    "    def __len__(self):\n",
    "        return len(self.df)\n",
    "\n",
    "    def __getitem__(self, idx):\n",
    "        row = self.df.iloc[idx]\n",
    "        return row['encoded'], float(row['label'])\n",
    "\n",
    "class LEDataset(Dataset):\n",
    "    \"\"\"\n",
    "    Log enrichment dataset\n",
    "    \"\"\"\n",
    "\n",
    "    def __init__(self, df):\n",
    "        self.df = df\n",
    "\n",
    "    def __len__(self):\n",
    "        return len(self.df)\n",
    "    \n",
    "    def __getitem__(self, idx):\n",
    "\n",
    "        row = self.df.iloc[idx]\n",
    "        return row['encoded'], row['le']\n",
    "\n",
    "class MBEDataModule(L.LightningDataModule):\n",
    "\n",
    "    def __init__(self, data_dir, batch_size = 32):\n",
    "        super().__init__()\n",
    "        self.data_dir = data_dir\n",
    "        self.batch_size = batch_size\n",
    "\n",
    "    def setup(self, enc=\"onehot\", stage=None):\n",
    "        self.train = pd.read_pickle(os.path.join(self.data_dir, f'train_{enc}.pkl'))\n",
    "        self.eval = pd.read_pickle(os.path.join(self.data_dir, f'eval_{enc}.pkl'))\n",
    "        self.test = pd.read_pickle(os.path.join(self.data_dir, f'test_{enc}.pkl'))\n",
    "\n",
    "    def train_dataloader(self):\n",
    "        return DataLoader(MBEDataset(self.train), batch_size=self.batch_size, shuffle=True)\n",
    "    \n",
    "    def val_dataloader(self):\n",
    "        return DataLoader(LEDataset(self.eval), batch_size=self.batch_size)\n",
    "    \n",
    "    def test_dataloader(self):\n",
    "        return DataLoader(LEDataset(self.test), batch_size=self.batch_size)\n",
    "    \n",
    "# test out dataset class\n",
    "ds = MBEDataset(df_eval)\n",
    "ds[0]\n",
    "\n"
   ]
  },
  {
   "cell_type": "code",
   "execution_count": 18,
   "metadata": {},
   "outputs": [
    {
     "data": {
      "text/plain": [
       "tensor(1.2274, dtype=torch.float64)"
      ]
     },
     "execution_count": 18,
     "metadata": {},
     "output_type": "execute_result"
    }
   ],
   "source": [
    "ds.get_weights()"
   ]
  },
  {
   "cell_type": "code",
   "execution_count": 19,
   "metadata": {},
   "outputs": [
    {
     "data": {
      "text/plain": [
       "(array([0., 0., 0., ..., 0., 0., 0.]), -0.7772801743351354)"
      ]
     },
     "execution_count": 19,
     "metadata": {},
     "output_type": "execute_result"
    }
   ],
   "source": [
    "le = LEDataset(df_eval)\n",
    "le[0]"
   ]
  },
  {
   "cell_type": "code",
   "execution_count": 20,
   "metadata": {},
   "outputs": [
    {
     "data": {
      "text/plain": [
       "[tensor([[0., 0., 0.,  ..., 0., 0., 0.],\n",
       "         [0., 0., 0.,  ..., 0., 0., 0.],\n",
       "         [0., 0., 0.,  ..., 0., 0., 0.],\n",
       "         ...,\n",
       "         [0., 0., 0.,  ..., 0., 0., 0.],\n",
       "         [0., 0., 0.,  ..., 0., 0., 0.],\n",
       "         [0., 0., 0.,  ..., 0., 0., 0.]], dtype=torch.float64),\n",
       " tensor([1., 0., 1., 0., 0., 0., 1., 1., 1., 1., 0., 0., 0., 0., 0., 0., 1., 0.,\n",
       "         0., 0., 0., 1., 0., 0., 1., 0., 1., 1., 0., 1., 0., 0., 1., 1., 0., 1.,\n",
       "         0., 0., 0., 1., 1., 1., 0., 1., 1., 1., 0., 0., 1., 0., 1., 0., 0., 1.,\n",
       "         0., 1., 1., 1., 1., 0., 0., 1., 0., 0.], dtype=torch.float64)]"
      ]
     },
     "execution_count": 20,
     "metadata": {},
     "output_type": "execute_result"
    }
   ],
   "source": [
    "# test out datamodule class - takes a while to load pickled data\n",
    "dm = MBEDataModule(procdir, batch_size=BATCH_SIZE)\n",
    "dm.setup()\n",
    "test = next(iter(dm.train_dataloader()))\n",
    "test"
   ]
  },
  {
   "cell_type": "markdown",
   "metadata": {},
   "source": [
    "## Model\n",
    "\n",
    "In this case, we'll use a simple feedforward network with two layers."
   ]
  },
  {
   "cell_type": "code",
   "execution_count": 31,
   "metadata": {},
   "outputs": [
    {
     "data": {
      "text/plain": [
       "tensor([[0.0215],\n",
       "        [0.0082],\n",
       "        [0.0159],\n",
       "        [0.0398],\n",
       "        [0.0400]], dtype=torch.float64, grad_fn=<SliceBackward0>)"
      ]
     },
     "execution_count": 31,
     "metadata": {},
     "output_type": "execute_result"
    }
   ],
   "source": [
    "class MBELogisticRegression(nn.Module):\n",
    "    \"\"\"\n",
    "    Class for logistic regression. \n",
    "    Returns logits by default, or probabilities if probs=True.\n",
    "    \"\"\"\n",
    "\n",
    "    def __init__(self, input_size, pos_weight=None):\n",
    "        super().__init__()\n",
    "        self.linear = nn.Linear(input_size, 1, dtype = torch.float64)\n",
    "        self.pos_weight = 1 if pos_weight is None else pos_weight\n",
    "\n",
    "    def forward(self, x, probs=False):\n",
    "        \"\"\"\n",
    "        Return logits or probabilities\n",
    "        \n",
    "        \"\"\"\n",
    "\n",
    "        logits = self.linear(x)\n",
    "        if probs:\n",
    "            return torch.sigmoid(logits)\n",
    "        else:\n",
    "            return logits\n",
    "\n",
    "    def predict(self, x):\n",
    "        \"\"\"\n",
    "        Return density ratio, an estimate of log enrichment\n",
    "        \"\"\"\n",
    "        \n",
    "        # get probability for positive class\n",
    "        p = self.forward(x, probs=True)\n",
    "\n",
    "        # density ratio is p/(1-p), adjusted for class imbalance\n",
    "        return p/(1-p) / self.pos_weight\n",
    "\n",
    "class MBEFeedForward(MBELogisticRegression):\n",
    "\n",
    "    def __init__(self, input_size, pos_weight=None, n_units=128):\n",
    "        super().__init__(input_size, pos_weight)\n",
    "        self.n_units = n_units\n",
    "        self.pos_weight = pos_weight\n",
    "        self.linear = nn.Sequential(\n",
    "            nn.Linear(input_size, n_units, dtype = torch.float64),\n",
    "            nn.ReLU(),\n",
    "            nn.Linear(n_units, 1, dtype = torch.float64),\n",
    "        )\n",
    "\n",
    "\n",
    "model = MBEFeedForward(len(ds[0][0]), pos_weight=ds.get_weights())\n",
    "model(test[0])[:5]"
   ]
  },
  {
   "cell_type": "code",
   "execution_count": 32,
   "metadata": {},
   "outputs": [
    {
     "data": {
      "text/plain": [
       "tensor([[0.8324],\n",
       "        [0.8215],\n",
       "        [0.8278],\n",
       "        [0.8478],\n",
       "        [0.8480]], dtype=torch.float64, grad_fn=<SliceBackward0>)"
      ]
     },
     "execution_count": 32,
     "metadata": {},
     "output_type": "execute_result"
    }
   ],
   "source": [
    "model.predict(test[0])[:5]"
   ]
  },
  {
   "cell_type": "markdown",
   "metadata": {},
   "source": [
    "Use a weighted BCE loss function with the Adam optimizer.  The classes are weighted using the ratio of total reads in r1 vs r0."
   ]
  },
  {
   "cell_type": "code",
   "execution_count": 33,
   "metadata": {},
   "outputs": [],
   "source": [
    "class LitMBE(L.LightningModule):\n",
    "\n",
    "    def __init__(self, model, lr=0.001, pos_weight = 1):\n",
    "        super().__init__()\n",
    "        self.model = model\n",
    "        self.loss = nn.BCEWithLogitsLoss(pos_weight=pos_weight)\n",
    "        self.spearman = stats.spearmanr \n",
    "        self.lr = lr\n",
    "        self.save_hyperparameters()\n",
    "\n",
    "    def training_step(self, batch, batch_idx):\n",
    "        x, y = batch\n",
    "        logits = self.model(x).squeeze()\n",
    "        loss = self.loss(logits, y)\n",
    "        self.log('train_loss', loss, on_step = True, on_epoch = True, prog_bar = True)\n",
    "        return loss\n",
    "\n",
    "    def validation_step(self, batch, batch_idx):\n",
    "        x, y = batch\n",
    "        with torch.no_grad():\n",
    "            le = self.model.predict(x).squeeze().cpu().numpy()\n",
    "            spearman = self.spearman(le, y.cpu().numpy()).statistic\n",
    "            self.log('val_spearman', spearman, on_step = False, on_epoch = True, prog_bar = True)\n",
    "        \n",
    "\n",
    "    def configure_optimizers(self):\n",
    "        return torch.optim.Adam(self.model.parameters(), lr=self.lr)"
   ]
  },
  {
   "cell_type": "code",
   "execution_count": 36,
   "metadata": {},
   "outputs": [
    {
     "name": "stderr",
     "output_type": "stream",
     "text": [
      "/data/home/sscott@cmri.com.au/micromamba/envs/torch2/lib/python3.11/site-packages/lightning/pytorch/utilities/parsing.py:199: Attribute 'model' is an instance of `nn.Module` and is already saved during checkpointing. It is recommended to ignore them using `self.save_hyperparameters(ignore=['model'])`.\n"
     ]
    },
    {
     "data": {
      "text/html": [
       "Tracking run with wandb version 0.17.1"
      ],
      "text/plain": [
       "<IPython.core.display.HTML object>"
      ]
     },
     "metadata": {},
     "output_type": "display_data"
    },
    {
     "data": {
      "text/html": [
       "Run data is saved locally in <code>./wandb/run-20240614_093748-byxp6xh5</code>"
      ],
      "text/plain": [
       "<IPython.core.display.HTML object>"
      ]
     },
     "metadata": {},
     "output_type": "display_data"
    },
    {
     "data": {
      "text/html": [
       "Syncing run <strong><a href='https://wandb.ai/szsctt/mbe/runs/byxp6xh5' target=\"_blank\">feedforward</a></strong> to <a href='https://wandb.ai/szsctt/mbe' target=\"_blank\">Weights & Biases</a> (<a href='https://wandb.me/run' target=\"_blank\">docs</a>)<br/>"
      ],
      "text/plain": [
       "<IPython.core.display.HTML object>"
      ]
     },
     "metadata": {},
     "output_type": "display_data"
    },
    {
     "data": {
      "text/html": [
       " View project at <a href='https://wandb.ai/szsctt/mbe' target=\"_blank\">https://wandb.ai/szsctt/mbe</a>"
      ],
      "text/plain": [
       "<IPython.core.display.HTML object>"
      ]
     },
     "metadata": {},
     "output_type": "display_data"
    },
    {
     "data": {
      "text/html": [
       " View run at <a href='https://wandb.ai/szsctt/mbe/runs/byxp6xh5' target=\"_blank\">https://wandb.ai/szsctt/mbe/runs/byxp6xh5</a>"
      ],
      "text/plain": [
       "<IPython.core.display.HTML object>"
      ]
     },
     "metadata": {},
     "output_type": "display_data"
    },
    {
     "name": "stderr",
     "output_type": "stream",
     "text": [
      "GPU available: True (cuda), used: True\n",
      "TPU available: False, using: 0 TPU cores\n",
      "IPU available: False, using: 0 IPUs\n",
      "HPU available: False, using: 0 HPUs\n",
      "LOCAL_RANK: 0 - CUDA_VISIBLE_DEVICES: [0]\n",
      "\n",
      "  | Name  | Type              | Params\n",
      "--------------------------------------------\n",
      "0 | model | MBEFeedForward    | 2.0 M \n",
      "1 | loss  | BCEWithLogitsLoss | 0     \n",
      "--------------------------------------------\n",
      "2.0 M     Trainable params\n",
      "0         Non-trainable params\n",
      "2.0 M     Total params\n",
      "8.065     Total estimated model params size (MB)\n"
     ]
    },
    {
     "data": {
      "application/vnd.jupyter.widget-view+json": {
       "model_id": "6912f9bd2836492b8a77db8816281485",
       "version_major": 2,
       "version_minor": 0
      },
      "text/plain": [
       "Sanity Checking: |          | 0/? [00:00<?, ?it/s]"
      ]
     },
     "metadata": {},
     "output_type": "display_data"
    },
    {
     "name": "stderr",
     "output_type": "stream",
     "text": [
      "/data/home/sscott@cmri.com.au/micromamba/envs/torch2/lib/python3.11/site-packages/lightning/pytorch/trainer/connectors/data_connector.py:441: The 'val_dataloader' does not have many workers which may be a bottleneck. Consider increasing the value of the `num_workers` argument` to `num_workers=95` in the `DataLoader` to improve performance.\n",
      "/data/home/sscott@cmri.com.au/micromamba/envs/torch2/lib/python3.11/site-packages/lightning/pytorch/trainer/connectors/data_connector.py:441: The 'train_dataloader' does not have many workers which may be a bottleneck. Consider increasing the value of the `num_workers` argument` to `num_workers=95` in the `DataLoader` to improve performance.\n"
     ]
    },
    {
     "data": {
      "application/vnd.jupyter.widget-view+json": {
       "model_id": "7ecb0e81394f400c90e1fee41d1c60fa",
       "version_major": 2,
       "version_minor": 0
      },
      "text/plain": [
       "Training: |          | 0/? [00:00<?, ?it/s]"
      ]
     },
     "metadata": {},
     "output_type": "display_data"
    },
    {
     "data": {
      "application/vnd.jupyter.widget-view+json": {
       "model_id": "7f762147155b4aa4ae8ce0511c667d21",
       "version_major": 2,
       "version_minor": 0
      },
      "text/plain": [
       "Validation: |          | 0/? [00:00<?, ?it/s]"
      ]
     },
     "metadata": {},
     "output_type": "display_data"
    },
    {
     "data": {
      "application/vnd.jupyter.widget-view+json": {
       "model_id": "5cfa4b3fc47949a183a112e6364d0a5c",
       "version_major": 2,
       "version_minor": 0
      },
      "text/plain": [
       "Validation: |          | 0/? [00:00<?, ?it/s]"
      ]
     },
     "metadata": {},
     "output_type": "display_data"
    },
    {
     "data": {
      "application/vnd.jupyter.widget-view+json": {
       "model_id": "864892e83aa94715b028333a67d474d0",
       "version_major": 2,
       "version_minor": 0
      },
      "text/plain": [
       "Validation: |          | 0/? [00:00<?, ?it/s]"
      ]
     },
     "metadata": {},
     "output_type": "display_data"
    },
    {
     "data": {
      "application/vnd.jupyter.widget-view+json": {
       "model_id": "363de3b09afb4b9590bedcd00c311163",
       "version_major": 2,
       "version_minor": 0
      },
      "text/plain": [
       "Validation: |          | 0/? [00:00<?, ?it/s]"
      ]
     },
     "metadata": {},
     "output_type": "display_data"
    },
    {
     "data": {
      "application/vnd.jupyter.widget-view+json": {
       "model_id": "34442398414e4bb5a57c5771e8ceb6f2",
       "version_major": 2,
       "version_minor": 0
      },
      "text/plain": [
       "Validation: |          | 0/? [00:00<?, ?it/s]"
      ]
     },
     "metadata": {},
     "output_type": "display_data"
    },
    {
     "data": {
      "application/vnd.jupyter.widget-view+json": {
       "model_id": "5a4253806a7a43429d8ff905bdc4e5d8",
       "version_major": 2,
       "version_minor": 0
      },
      "text/plain": [
       "Validation: |          | 0/? [00:00<?, ?it/s]"
      ]
     },
     "metadata": {},
     "output_type": "display_data"
    },
    {
     "data": {
      "application/vnd.jupyter.widget-view+json": {
       "model_id": "b0e9c05099454573b4a08d6d5ff9c7d7",
       "version_major": 2,
       "version_minor": 0
      },
      "text/plain": [
       "Validation: |          | 0/? [00:00<?, ?it/s]"
      ]
     },
     "metadata": {},
     "output_type": "display_data"
    },
    {
     "data": {
      "application/vnd.jupyter.widget-view+json": {
       "model_id": "fc7e5ece67ce4cd9a91b4011ca651116",
       "version_major": 2,
       "version_minor": 0
      },
      "text/plain": [
       "Validation: |          | 0/? [00:00<?, ?it/s]"
      ]
     },
     "metadata": {},
     "output_type": "display_data"
    },
    {
     "data": {
      "application/vnd.jupyter.widget-view+json": {
       "model_id": "ea96e5f45f124e71a5da3d76de159635",
       "version_major": 2,
       "version_minor": 0
      },
      "text/plain": [
       "Validation: |          | 0/? [00:00<?, ?it/s]"
      ]
     },
     "metadata": {},
     "output_type": "display_data"
    },
    {
     "data": {
      "application/vnd.jupyter.widget-view+json": {
       "model_id": "c32c252fff224853a0fa1f9835bd81cc",
       "version_major": 2,
       "version_minor": 0
      },
      "text/plain": [
       "Validation: |          | 0/? [00:00<?, ?it/s]"
      ]
     },
     "metadata": {},
     "output_type": "display_data"
    },
    {
     "name": "stderr",
     "output_type": "stream",
     "text": [
      "`Trainer.fit` stopped: `max_epochs=10` reached.\n"
     ]
    },
    {
     "data": {
      "application/vnd.jupyter.widget-view+json": {
       "model_id": "d0d8b88bb8f7461088a719c8fde4fbab",
       "version_major": 2,
       "version_minor": 0
      },
      "text/plain": [
       "VBox(children=(Label(value='0.011 MB of 0.016 MB uploaded\\r'), FloatProgress(value=0.6795693722027337, max=1.0…"
      ]
     },
     "metadata": {},
     "output_type": "display_data"
    },
    {
     "data": {
      "text/html": [
       "<style>\n",
       "    table.wandb td:nth-child(1) { padding: 0 10px; text-align: left ; width: auto;} td:nth-child(2) {text-align: left ; width: 100%}\n",
       "    .wandb-row { display: flex; flex-direction: row; flex-wrap: wrap; justify-content: flex-start; width: 100% }\n",
       "    .wandb-col { display: flex; flex-direction: column; flex-basis: 100%; flex: 1; padding: 10px; }\n",
       "    </style>\n",
       "<div class=\"wandb-row\"><div class=\"wandb-col\"><h3>Run history:</h3><br/><table class=\"wandb\"><tr><td>epoch</td><td>▁▁▁▁▂▂▂▂▃▃▃▃▃▃▃▃▄▄▄▄▅▅▅▅▆▆▆▆▆▆▆▆▇▇▇▇████</td></tr><tr><td>train_loss_epoch</td><td>█▃▂▂▁▁▁▁▁▁</td></tr><tr><td>train_loss_step</td><td>▄▆▅▅▄▆▂▅▆▃▆▃▆▅▄▃▄▅█▅▇▁▃▅▆▂▆▄▅▃▅▆▄▇▅▅▆▅▄▃</td></tr><tr><td>trainer/global_step</td><td>▁▁▁▂▂▂▂▂▂▃▃▃▃▃▃▄▄▄▄▄▅▅▅▅▅▅▆▆▆▆▆▆▇▇▇▇▇███</td></tr><tr><td>val_spearman</td><td>▆▃▅▂▃▂▇▆▁█</td></tr></table><br/></div><div class=\"wandb-col\"><h3>Run summary:</h3><br/><table class=\"wandb\"><tr><td>epoch</td><td>9</td></tr><tr><td>train_loss_epoch</td><td>0.75758</td></tr><tr><td>train_loss_step</td><td>0.75566</td></tr><tr><td>trainer/global_step</td><td>603829</td></tr><tr><td>val_spearman</td><td>0.35388</td></tr></table><br/></div></div>"
      ],
      "text/plain": [
       "<IPython.core.display.HTML object>"
      ]
     },
     "metadata": {},
     "output_type": "display_data"
    },
    {
     "data": {
      "text/html": [
       " View run <strong style=\"color:#cdcd00\">feedforward</strong> at: <a href='https://wandb.ai/szsctt/mbe/runs/byxp6xh5' target=\"_blank\">https://wandb.ai/szsctt/mbe/runs/byxp6xh5</a><br/> View project at: <a href='https://wandb.ai/szsctt/mbe' target=\"_blank\">https://wandb.ai/szsctt/mbe</a><br/>Synced 5 W&B file(s), 0 media file(s), 0 artifact file(s) and 0 other file(s)"
      ],
      "text/plain": [
       "<IPython.core.display.HTML object>"
      ]
     },
     "metadata": {},
     "output_type": "display_data"
    },
    {
     "data": {
      "text/html": [
       "Find logs at: <code>./wandb/run-20240614_093748-byxp6xh5/logs</code>"
      ],
      "text/plain": [
       "<IPython.core.display.HTML object>"
      ]
     },
     "metadata": {},
     "output_type": "display_data"
    }
   ],
   "source": [
    "# instantiate lightning model\n",
    "lit_model = LitMBE(model, pos_weight=ds.get_weights())\n",
    "\n",
    "# use weights and biases logger\n",
    "wandb_logger = WandbLogger(project='mbe', name = \"feedforward\")\n",
    "wandb_logger.experiment.config.update({\n",
    "    \"lr\": 0.001,\n",
    "    \"pos_weight\": ds.get_weights(),\n",
    "    \"n_units\": 128,\n",
    "    \"batch_size\": BATCH_SIZE,\n",
    "    \"max_seq_length\": max_seq_length,\n",
    "    \"arch\": \"feedforward\",\n",
    "    \"enc\": \"onehot\"\n",
    "})\n",
    "\n",
    "# train model\n",
    "trainer = L.Trainer(max_epochs=10, logger = wandb_logger)\n",
    "trainer.validate(model = lit_model, datamodule = dm)\n",
    "trainer.fit(model = lit_model, datamodule = dm)\n",
    "wandb.finish()"
   ]
  },
  {
   "cell_type": "markdown",
   "metadata": {},
   "source": [
    "Future improvements / things to try:\n",
    "\n",
    " - Weight decay / regularization\n",
    " - Different architechtures\n",
    " - Different encoding (label encoding / embeddings from ESM-2)\n",
    " - Weight decay / regularization"
   ]
  }
 ],
 "metadata": {
  "kernelspec": {
   "display_name": "Python 3",
   "language": "python",
   "name": "python3"
  },
  "language_info": {
   "codemirror_mode": {
    "name": "ipython",
    "version": 3
   },
   "file_extension": ".py",
   "mimetype": "text/x-python",
   "name": "python",
   "nbconvert_exporter": "python",
   "pygments_lexer": "ipython3",
   "version": "3.11.9"
  }
 },
 "nbformat": 4,
 "nbformat_minor": 2
}
