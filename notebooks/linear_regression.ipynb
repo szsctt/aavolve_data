{
 "cells": [
  {
   "cell_type": "code",
   "execution_count": 81,
   "metadata": {},
   "outputs": [],
   "source": [
    "import os\n",
    "import pandas as pd\n",
    "import numpy as np\n",
    "import torch\n",
    "import matplotlib as plt\n",
    "from sklearn.model_selection import train_test_split\n",
    "import torch.nn.functional as F\n",
    "from torch.utils.data import TensorDataset, random_split\n",
    "\n",
    "from torch.utils.data import Dataset, DataLoader"
   ]
  },
  {
   "cell_type": "code",
   "execution_count": 82,
   "metadata": {},
   "outputs": [
    {
     "name": "stdout",
     "output_type": "stream",
     "text": [
      "2024-06-05_r0_np-cc_repeat_aa-seq-counts.tsv.gz\n",
      "2024-06-05_r0_np-cc_aa-seq-counts.tsv.gz\n",
      "2024-06-05_r0_np-cc_gel-extract_aa-seq-counts.tsv.gz\n",
      "2024-06-05_r1_np-cc_gel-extract_aa-seq-counts.tsv.gz\n",
      "2024-06-05_r1_np-cc_aa-seq-counts.tsv.gz\n",
      "2024-06-05_r5_np-cc_aa-seq-counts.tsv.gz\n"
     ]
    }
   ],
   "source": [
    "# IF THE TNESOR IS ALREADY DOWNLOADED, SKIP OVER ALL OF THIS UNTIL YOU FIND THE CELL USING THE LOAD FUNCTION\n",
    "\n",
    "# Dictionary of file names cateogrized by wich round they are in\n",
    "files_by_round = {'r0': ['2024-06-05_r0_np-cc_repeat_aa-seq-counts.tsv.gz', '2024-06-05_r0_np-cc_aa-seq-counts.tsv.gz', '2024-06-05_r0_np-cc_gel-extract_aa-seq-counts.tsv.gz'], 'r1': ['2024-06-05_r1_np-cc_gel-extract_aa-seq-counts.tsv.gz', '2024-06-05_r1_np-cc_aa-seq-counts.tsv.gz', ], 'r5': ['2024-06-05_r5_np-cc_aa-seq-counts.tsv.gz']}\n",
    "\n",
    "# files_by_round = {'r0': ['2024-06-05_r0_np-cc_repeat_aa-seq-counts.tsv.gz', '2024-06-05_r0_np-cc_aa-seq-counts.tsv.gz']}\n",
    "# /Users/tlorant/Documents/MBE/environment.yml\n",
    "r0 = pd.DataFrame()\n",
    "r1 = pd.DataFrame()\n",
    "r5 = pd.DataFrame()\n",
    "\n",
    "for round in files_by_round:\n",
    "    for file in files_by_round[round]:\n",
    "        print(file)\n",
    "        if round == 'r0':\n",
    "            if r0.size == 0:\n",
    "                r0 = pd.read_csv(\"./../out/corrected/counts/\" + file, sep='\\t')\n",
    "            else:\n",
    "                new_read = pd.read_csv(\"./../out/corrected/counts/\" + file, sep='\\t')\n",
    "                r0 = pd.merge(r0, new_read, how='outer', on='sequence', suffixes=('_r0', '_new_read'))\n",
    "                r0.fillna(0, inplace=True)\n",
    "                r0['count'] = r0['count_r0'] + r0['count_new_read']\n",
    "                r0.drop(columns=['count_r0', 'count_new_read'], axis=1, inplace=True)\n",
    "\n",
    "        if round == 'r1':\n",
    "            if r1.size == 0:\n",
    "                r1 = pd.read_csv(\"./../out/corrected/counts/\" + file, sep='\\t')\n",
    "            else:\n",
    "                new_read = pd.read_csv(\"./../out/corrected/counts/\" + file, sep='\\t')\n",
    "                r1 = pd.merge(r1, new_read, how='outer', on='sequence', suffixes=('_r1', '_new_read'))\n",
    "                r1.fillna(0, inplace=True)\n",
    "                r1['count'] = r1['count_r1'] + r1['count_new_read']\n",
    "                r1.drop(columns=['count_r1', 'count_new_read'], axis=1, inplace=True)\n",
    "\n",
    "        if round == 'r5':\n",
    "            if r5.size == 0:\n",
    "                r5 = pd.read_csv(\"./../out/corrected/counts/\" + file, sep='\\t')\n",
    "            else:\n",
    "                new_read = pd.read_csv(\"./../out/corrected/counts/\" + file, sep='\\t')\n",
    "                r5 = pd.merge(r5, new_read, how='outer', on='sequence', suffixes=('_r5', '_new_read'))\n",
    "                r5.fillna(0, inplace=True)\n",
    "                r5['count'] = r5['count_r0'] + r5['count_new_read']\n",
    "                r5.drop(columns=['count_r0', 'count_new_read'], axis=1, inplace=True)"
   ]
  },
  {
   "cell_type": "code",
   "execution_count": 83,
   "metadata": {},
   "outputs": [],
   "source": [
    "# merge r0 and r1\n",
    "r01 = pd.merge(r0, r1, on='sequence', how='outer', suffixes=('_r0', '_r1'))\n",
    "r01.fillna(0, inplace=True)\n",
    "r01 = r01.head()"
   ]
  },
  {
   "cell_type": "code",
   "execution_count": 84,
   "metadata": {},
   "outputs": [
    {
     "name": "stdout",
     "output_type": "stream",
     "text": [
      "['M' 'A' 'D' 'G' 'Y' 'L' 'P' 'W' 'E' 'N' 'C' 'I' 'R' 'K' 'Q' 'H' 'V' 'F'\n",
      " 'S' 'T' '*']\n",
      "21\n"
     ]
    }
   ],
   "source": [
    "# Get the amion acids\n",
    "# aminon_acids = pd.Series(list(lil['sequence'][0])).unique()\n",
    "aminon_acids = pd.Series(list(r01['sequence'][0])).unique()\n",
    "print(aminon_acids)\n",
    "print(len(aminon_acids))"
   ]
  },
  {
   "cell_type": "code",
   "execution_count": 85,
   "metadata": {},
   "outputs": [
    {
     "data": {
      "text/plain": [
       "{'M': 0,\n",
       " 'A': 1,\n",
       " 'D': 2,\n",
       " 'G': 3,\n",
       " 'Y': 4,\n",
       " 'L': 5,\n",
       " 'P': 6,\n",
       " 'W': 7,\n",
       " 'E': 8,\n",
       " 'N': 9,\n",
       " 'C': 10,\n",
       " 'I': 11,\n",
       " 'R': 12,\n",
       " 'K': 13,\n",
       " 'Q': 14,\n",
       " 'H': 15,\n",
       " 'V': 16,\n",
       " 'F': 17,\n",
       " 'S': 18,\n",
       " 'T': 19,\n",
       " '*': 20}"
      ]
     },
     "execution_count": 85,
     "metadata": {},
     "output_type": "execute_result"
    }
   ],
   "source": [
    "aa_mapping = {aminon_acids[i]: i for i in range(len(aminon_acids))}\n",
    "aa_mapping"
   ]
  },
  {
   "cell_type": "code",
   "execution_count": 86,
   "metadata": {},
   "outputs": [
    {
     "data": {
      "text/plain": [
       "{'M': 0,\n",
       " 'A': 1,\n",
       " 'D': 2,\n",
       " 'G': 3,\n",
       " 'Y': 4,\n",
       " 'L': 5,\n",
       " 'P': 6,\n",
       " 'W': 7,\n",
       " 'E': 8,\n",
       " 'N': 9,\n",
       " 'C': 10,\n",
       " 'I': 11,\n",
       " 'R': 12,\n",
       " 'K': 13,\n",
       " 'Q': 14,\n",
       " 'H': 15,\n",
       " 'V': 16,\n",
       " 'F': 17,\n",
       " 'S': 18,\n",
       " 'T': 19,\n",
       " '*': 20,\n",
       " 'Nan': 21}"
      ]
     },
     "execution_count": 86,
     "metadata": {},
     "output_type": "execute_result"
    }
   ],
   "source": [
    "aa_mapping['Nan'] = 21\n",
    "aa_mapping"
   ]
  },
  {
   "cell_type": "code",
   "execution_count": 87,
   "metadata": {},
   "outputs": [
    {
     "data": {
      "text/html": [
       "<div>\n",
       "<style scoped>\n",
       "    .dataframe tbody tr th:only-of-type {\n",
       "        vertical-align: middle;\n",
       "    }\n",
       "\n",
       "    .dataframe tbody tr th {\n",
       "        vertical-align: top;\n",
       "    }\n",
       "\n",
       "    .dataframe thead th {\n",
       "        text-align: right;\n",
       "    }\n",
       "</style>\n",
       "<table border=\"1\" class=\"dataframe\">\n",
       "  <thead>\n",
       "    <tr style=\"text-align: right;\">\n",
       "      <th></th>\n",
       "      <th>0</th>\n",
       "      <th>1</th>\n",
       "      <th>2</th>\n",
       "      <th>3</th>\n",
       "      <th>4</th>\n",
       "      <th>5</th>\n",
       "      <th>6</th>\n",
       "      <th>7</th>\n",
       "      <th>8</th>\n",
       "      <th>9</th>\n",
       "      <th>...</th>\n",
       "      <th>729</th>\n",
       "      <th>730</th>\n",
       "      <th>731</th>\n",
       "      <th>732</th>\n",
       "      <th>733</th>\n",
       "      <th>734</th>\n",
       "      <th>735</th>\n",
       "      <th>736</th>\n",
       "      <th>737</th>\n",
       "      <th>738</th>\n",
       "    </tr>\n",
       "  </thead>\n",
       "  <tbody>\n",
       "    <tr>\n",
       "      <th>0</th>\n",
       "      <td>M</td>\n",
       "      <td>A</td>\n",
       "      <td>A</td>\n",
       "      <td>D</td>\n",
       "      <td>G</td>\n",
       "      <td>Y</td>\n",
       "      <td>L</td>\n",
       "      <td>P</td>\n",
       "      <td>D</td>\n",
       "      <td>W</td>\n",
       "      <td>...</td>\n",
       "      <td>T</td>\n",
       "      <td>R</td>\n",
       "      <td>Y</td>\n",
       "      <td>L</td>\n",
       "      <td>T</td>\n",
       "      <td>R</td>\n",
       "      <td>N</td>\n",
       "      <td>L</td>\n",
       "      <td>*</td>\n",
       "      <td>NaN</td>\n",
       "    </tr>\n",
       "    <tr>\n",
       "      <th>1</th>\n",
       "      <td>M</td>\n",
       "      <td>A</td>\n",
       "      <td>A</td>\n",
       "      <td>D</td>\n",
       "      <td>G</td>\n",
       "      <td>Y</td>\n",
       "      <td>L</td>\n",
       "      <td>P</td>\n",
       "      <td>D</td>\n",
       "      <td>W</td>\n",
       "      <td>...</td>\n",
       "      <td>G</td>\n",
       "      <td>T</td>\n",
       "      <td>R</td>\n",
       "      <td>Y</td>\n",
       "      <td>L</td>\n",
       "      <td>T</td>\n",
       "      <td>R</td>\n",
       "      <td>N</td>\n",
       "      <td>L</td>\n",
       "      <td>*</td>\n",
       "    </tr>\n",
       "    <tr>\n",
       "      <th>2</th>\n",
       "      <td>M</td>\n",
       "      <td>A</td>\n",
       "      <td>A</td>\n",
       "      <td>D</td>\n",
       "      <td>G</td>\n",
       "      <td>Y</td>\n",
       "      <td>L</td>\n",
       "      <td>P</td>\n",
       "      <td>D</td>\n",
       "      <td>W</td>\n",
       "      <td>...</td>\n",
       "      <td>T</td>\n",
       "      <td>R</td>\n",
       "      <td>Y</td>\n",
       "      <td>L</td>\n",
       "      <td>T</td>\n",
       "      <td>R</td>\n",
       "      <td>N</td>\n",
       "      <td>L</td>\n",
       "      <td>*</td>\n",
       "      <td>NaN</td>\n",
       "    </tr>\n",
       "    <tr>\n",
       "      <th>3</th>\n",
       "      <td>M</td>\n",
       "      <td>A</td>\n",
       "      <td>A</td>\n",
       "      <td>D</td>\n",
       "      <td>G</td>\n",
       "      <td>Y</td>\n",
       "      <td>L</td>\n",
       "      <td>P</td>\n",
       "      <td>D</td>\n",
       "      <td>W</td>\n",
       "      <td>...</td>\n",
       "      <td>Y</td>\n",
       "      <td>L</td>\n",
       "      <td>T</td>\n",
       "      <td>R</td>\n",
       "      <td>N</td>\n",
       "      <td>L</td>\n",
       "      <td>*</td>\n",
       "      <td>NaN</td>\n",
       "      <td>NaN</td>\n",
       "      <td>NaN</td>\n",
       "    </tr>\n",
       "    <tr>\n",
       "      <th>4</th>\n",
       "      <td>M</td>\n",
       "      <td>A</td>\n",
       "      <td>A</td>\n",
       "      <td>D</td>\n",
       "      <td>G</td>\n",
       "      <td>Y</td>\n",
       "      <td>L</td>\n",
       "      <td>P</td>\n",
       "      <td>D</td>\n",
       "      <td>W</td>\n",
       "      <td>...</td>\n",
       "      <td>T</td>\n",
       "      <td>R</td>\n",
       "      <td>Y</td>\n",
       "      <td>L</td>\n",
       "      <td>T</td>\n",
       "      <td>R</td>\n",
       "      <td>N</td>\n",
       "      <td>L</td>\n",
       "      <td>*</td>\n",
       "      <td>NaN</td>\n",
       "    </tr>\n",
       "  </tbody>\n",
       "</table>\n",
       "<p>5 rows × 739 columns</p>\n",
       "</div>"
      ],
      "text/plain": [
       "  0   1   2   3   4   5   6   7   8   9    ... 729 730 731 732 733 734 735  \\\n",
       "0   M   A   A   D   G   Y   L   P   D   W  ...   T   R   Y   L   T   R   N   \n",
       "1   M   A   A   D   G   Y   L   P   D   W  ...   G   T   R   Y   L   T   R   \n",
       "2   M   A   A   D   G   Y   L   P   D   W  ...   T   R   Y   L   T   R   N   \n",
       "3   M   A   A   D   G   Y   L   P   D   W  ...   Y   L   T   R   N   L   *   \n",
       "4   M   A   A   D   G   Y   L   P   D   W  ...   T   R   Y   L   T   R   N   \n",
       "\n",
       "   736  737  738  \n",
       "0    L    *  NaN  \n",
       "1    N    L    *  \n",
       "2    L    *  NaN  \n",
       "3  NaN  NaN  NaN  \n",
       "4    L    *  NaN  \n",
       "\n",
       "[5 rows x 739 columns]"
      ]
     },
     "execution_count": 87,
     "metadata": {},
     "output_type": "execute_result"
    }
   ],
   "source": [
    "token_seq = r01['sequence'].apply(lambda x: pd.Series(list(x)))\n",
    "token_seq"
   ]
  },
  {
   "cell_type": "code",
   "execution_count": 88,
   "metadata": {},
   "outputs": [
    {
     "data": {
      "text/html": [
       "<div>\n",
       "<style scoped>\n",
       "    .dataframe tbody tr th:only-of-type {\n",
       "        vertical-align: middle;\n",
       "    }\n",
       "\n",
       "    .dataframe tbody tr th {\n",
       "        vertical-align: top;\n",
       "    }\n",
       "\n",
       "    .dataframe thead th {\n",
       "        text-align: right;\n",
       "    }\n",
       "</style>\n",
       "<table border=\"1\" class=\"dataframe\">\n",
       "  <thead>\n",
       "    <tr style=\"text-align: right;\">\n",
       "      <th></th>\n",
       "      <th>aa_0</th>\n",
       "      <th>aa_1</th>\n",
       "      <th>aa_2</th>\n",
       "      <th>aa_3</th>\n",
       "      <th>aa_4</th>\n",
       "      <th>aa_5</th>\n",
       "      <th>aa_6</th>\n",
       "      <th>aa_7</th>\n",
       "      <th>aa_8</th>\n",
       "      <th>aa_9</th>\n",
       "      <th>...</th>\n",
       "      <th>aa_729</th>\n",
       "      <th>aa_730</th>\n",
       "      <th>aa_731</th>\n",
       "      <th>aa_732</th>\n",
       "      <th>aa_733</th>\n",
       "      <th>aa_734</th>\n",
       "      <th>aa_735</th>\n",
       "      <th>aa_736</th>\n",
       "      <th>aa_737</th>\n",
       "      <th>aa_738</th>\n",
       "    </tr>\n",
       "  </thead>\n",
       "  <tbody>\n",
       "    <tr>\n",
       "      <th>0</th>\n",
       "      <td>M</td>\n",
       "      <td>A</td>\n",
       "      <td>A</td>\n",
       "      <td>D</td>\n",
       "      <td>G</td>\n",
       "      <td>Y</td>\n",
       "      <td>L</td>\n",
       "      <td>P</td>\n",
       "      <td>D</td>\n",
       "      <td>W</td>\n",
       "      <td>...</td>\n",
       "      <td>T</td>\n",
       "      <td>R</td>\n",
       "      <td>Y</td>\n",
       "      <td>L</td>\n",
       "      <td>T</td>\n",
       "      <td>R</td>\n",
       "      <td>N</td>\n",
       "      <td>L</td>\n",
       "      <td>*</td>\n",
       "      <td>NaN</td>\n",
       "    </tr>\n",
       "    <tr>\n",
       "      <th>1</th>\n",
       "      <td>M</td>\n",
       "      <td>A</td>\n",
       "      <td>A</td>\n",
       "      <td>D</td>\n",
       "      <td>G</td>\n",
       "      <td>Y</td>\n",
       "      <td>L</td>\n",
       "      <td>P</td>\n",
       "      <td>D</td>\n",
       "      <td>W</td>\n",
       "      <td>...</td>\n",
       "      <td>G</td>\n",
       "      <td>T</td>\n",
       "      <td>R</td>\n",
       "      <td>Y</td>\n",
       "      <td>L</td>\n",
       "      <td>T</td>\n",
       "      <td>R</td>\n",
       "      <td>N</td>\n",
       "      <td>L</td>\n",
       "      <td>*</td>\n",
       "    </tr>\n",
       "    <tr>\n",
       "      <th>2</th>\n",
       "      <td>M</td>\n",
       "      <td>A</td>\n",
       "      <td>A</td>\n",
       "      <td>D</td>\n",
       "      <td>G</td>\n",
       "      <td>Y</td>\n",
       "      <td>L</td>\n",
       "      <td>P</td>\n",
       "      <td>D</td>\n",
       "      <td>W</td>\n",
       "      <td>...</td>\n",
       "      <td>T</td>\n",
       "      <td>R</td>\n",
       "      <td>Y</td>\n",
       "      <td>L</td>\n",
       "      <td>T</td>\n",
       "      <td>R</td>\n",
       "      <td>N</td>\n",
       "      <td>L</td>\n",
       "      <td>*</td>\n",
       "      <td>NaN</td>\n",
       "    </tr>\n",
       "    <tr>\n",
       "      <th>3</th>\n",
       "      <td>M</td>\n",
       "      <td>A</td>\n",
       "      <td>A</td>\n",
       "      <td>D</td>\n",
       "      <td>G</td>\n",
       "      <td>Y</td>\n",
       "      <td>L</td>\n",
       "      <td>P</td>\n",
       "      <td>D</td>\n",
       "      <td>W</td>\n",
       "      <td>...</td>\n",
       "      <td>Y</td>\n",
       "      <td>L</td>\n",
       "      <td>T</td>\n",
       "      <td>R</td>\n",
       "      <td>N</td>\n",
       "      <td>L</td>\n",
       "      <td>*</td>\n",
       "      <td>NaN</td>\n",
       "      <td>NaN</td>\n",
       "      <td>NaN</td>\n",
       "    </tr>\n",
       "    <tr>\n",
       "      <th>4</th>\n",
       "      <td>M</td>\n",
       "      <td>A</td>\n",
       "      <td>A</td>\n",
       "      <td>D</td>\n",
       "      <td>G</td>\n",
       "      <td>Y</td>\n",
       "      <td>L</td>\n",
       "      <td>P</td>\n",
       "      <td>D</td>\n",
       "      <td>W</td>\n",
       "      <td>...</td>\n",
       "      <td>T</td>\n",
       "      <td>R</td>\n",
       "      <td>Y</td>\n",
       "      <td>L</td>\n",
       "      <td>T</td>\n",
       "      <td>R</td>\n",
       "      <td>N</td>\n",
       "      <td>L</td>\n",
       "      <td>*</td>\n",
       "      <td>NaN</td>\n",
       "    </tr>\n",
       "  </tbody>\n",
       "</table>\n",
       "<p>5 rows × 739 columns</p>\n",
       "</div>"
      ],
      "text/plain": [
       "  aa_0 aa_1 aa_2 aa_3 aa_4 aa_5 aa_6 aa_7 aa_8 aa_9  ... aa_729 aa_730 aa_731  \\\n",
       "0    M    A    A    D    G    Y    L    P    D    W  ...      T      R      Y   \n",
       "1    M    A    A    D    G    Y    L    P    D    W  ...      G      T      R   \n",
       "2    M    A    A    D    G    Y    L    P    D    W  ...      T      R      Y   \n",
       "3    M    A    A    D    G    Y    L    P    D    W  ...      Y      L      T   \n",
       "4    M    A    A    D    G    Y    L    P    D    W  ...      T      R      Y   \n",
       "\n",
       "  aa_732 aa_733 aa_734 aa_735 aa_736 aa_737 aa_738  \n",
       "0      L      T      R      N      L      *    NaN  \n",
       "1      Y      L      T      R      N      L      *  \n",
       "2      L      T      R      N      L      *    NaN  \n",
       "3      R      N      L      *    NaN    NaN    NaN  \n",
       "4      L      T      R      N      L      *    NaN  \n",
       "\n",
       "[5 rows x 739 columns]"
      ]
     },
     "execution_count": 88,
     "metadata": {},
     "output_type": "execute_result"
    }
   ],
   "source": [
    "token_seq.columns = [f'aa_{i}' for i in range(token_seq.shape[1])]\n",
    "token_seq"
   ]
  },
  {
   "cell_type": "code",
   "execution_count": 89,
   "metadata": {},
   "outputs": [
    {
     "data": {
      "text/html": [
       "<div>\n",
       "<style scoped>\n",
       "    .dataframe tbody tr th:only-of-type {\n",
       "        vertical-align: middle;\n",
       "    }\n",
       "\n",
       "    .dataframe tbody tr th {\n",
       "        vertical-align: top;\n",
       "    }\n",
       "\n",
       "    .dataframe thead th {\n",
       "        text-align: right;\n",
       "    }\n",
       "</style>\n",
       "<table border=\"1\" class=\"dataframe\">\n",
       "  <thead>\n",
       "    <tr style=\"text-align: right;\">\n",
       "      <th></th>\n",
       "      <th>aa_0</th>\n",
       "      <th>aa_1</th>\n",
       "      <th>aa_2</th>\n",
       "      <th>aa_3</th>\n",
       "      <th>aa_4</th>\n",
       "      <th>aa_5</th>\n",
       "      <th>aa_6</th>\n",
       "      <th>aa_7</th>\n",
       "      <th>aa_8</th>\n",
       "      <th>aa_9</th>\n",
       "      <th>...</th>\n",
       "      <th>aa_729</th>\n",
       "      <th>aa_730</th>\n",
       "      <th>aa_731</th>\n",
       "      <th>aa_732</th>\n",
       "      <th>aa_733</th>\n",
       "      <th>aa_734</th>\n",
       "      <th>aa_735</th>\n",
       "      <th>aa_736</th>\n",
       "      <th>aa_737</th>\n",
       "      <th>aa_738</th>\n",
       "    </tr>\n",
       "  </thead>\n",
       "  <tbody>\n",
       "    <tr>\n",
       "      <th>0</th>\n",
       "      <td>0</td>\n",
       "      <td>1</td>\n",
       "      <td>1</td>\n",
       "      <td>2</td>\n",
       "      <td>3</td>\n",
       "      <td>4</td>\n",
       "      <td>5</td>\n",
       "      <td>6</td>\n",
       "      <td>2</td>\n",
       "      <td>7</td>\n",
       "      <td>...</td>\n",
       "      <td>19</td>\n",
       "      <td>12</td>\n",
       "      <td>4</td>\n",
       "      <td>5</td>\n",
       "      <td>19</td>\n",
       "      <td>12</td>\n",
       "      <td>9</td>\n",
       "      <td>5.0</td>\n",
       "      <td>20.0</td>\n",
       "      <td>NaN</td>\n",
       "    </tr>\n",
       "    <tr>\n",
       "      <th>1</th>\n",
       "      <td>0</td>\n",
       "      <td>1</td>\n",
       "      <td>1</td>\n",
       "      <td>2</td>\n",
       "      <td>3</td>\n",
       "      <td>4</td>\n",
       "      <td>5</td>\n",
       "      <td>6</td>\n",
       "      <td>2</td>\n",
       "      <td>7</td>\n",
       "      <td>...</td>\n",
       "      <td>3</td>\n",
       "      <td>19</td>\n",
       "      <td>12</td>\n",
       "      <td>4</td>\n",
       "      <td>5</td>\n",
       "      <td>19</td>\n",
       "      <td>12</td>\n",
       "      <td>9.0</td>\n",
       "      <td>5.0</td>\n",
       "      <td>20.0</td>\n",
       "    </tr>\n",
       "    <tr>\n",
       "      <th>2</th>\n",
       "      <td>0</td>\n",
       "      <td>1</td>\n",
       "      <td>1</td>\n",
       "      <td>2</td>\n",
       "      <td>3</td>\n",
       "      <td>4</td>\n",
       "      <td>5</td>\n",
       "      <td>6</td>\n",
       "      <td>2</td>\n",
       "      <td>7</td>\n",
       "      <td>...</td>\n",
       "      <td>19</td>\n",
       "      <td>12</td>\n",
       "      <td>4</td>\n",
       "      <td>5</td>\n",
       "      <td>19</td>\n",
       "      <td>12</td>\n",
       "      <td>9</td>\n",
       "      <td>5.0</td>\n",
       "      <td>20.0</td>\n",
       "      <td>NaN</td>\n",
       "    </tr>\n",
       "    <tr>\n",
       "      <th>3</th>\n",
       "      <td>0</td>\n",
       "      <td>1</td>\n",
       "      <td>1</td>\n",
       "      <td>2</td>\n",
       "      <td>3</td>\n",
       "      <td>4</td>\n",
       "      <td>5</td>\n",
       "      <td>6</td>\n",
       "      <td>2</td>\n",
       "      <td>7</td>\n",
       "      <td>...</td>\n",
       "      <td>4</td>\n",
       "      <td>5</td>\n",
       "      <td>19</td>\n",
       "      <td>12</td>\n",
       "      <td>9</td>\n",
       "      <td>5</td>\n",
       "      <td>20</td>\n",
       "      <td>NaN</td>\n",
       "      <td>NaN</td>\n",
       "      <td>NaN</td>\n",
       "    </tr>\n",
       "    <tr>\n",
       "      <th>4</th>\n",
       "      <td>0</td>\n",
       "      <td>1</td>\n",
       "      <td>1</td>\n",
       "      <td>2</td>\n",
       "      <td>3</td>\n",
       "      <td>4</td>\n",
       "      <td>5</td>\n",
       "      <td>6</td>\n",
       "      <td>2</td>\n",
       "      <td>7</td>\n",
       "      <td>...</td>\n",
       "      <td>19</td>\n",
       "      <td>12</td>\n",
       "      <td>4</td>\n",
       "      <td>5</td>\n",
       "      <td>19</td>\n",
       "      <td>12</td>\n",
       "      <td>9</td>\n",
       "      <td>5.0</td>\n",
       "      <td>20.0</td>\n",
       "      <td>NaN</td>\n",
       "    </tr>\n",
       "  </tbody>\n",
       "</table>\n",
       "<p>5 rows × 739 columns</p>\n",
       "</div>"
      ],
      "text/plain": [
       "   aa_0  aa_1  aa_2  aa_3  aa_4  aa_5  aa_6  aa_7  aa_8  aa_9  ...  aa_729  \\\n",
       "0     0     1     1     2     3     4     5     6     2     7  ...      19   \n",
       "1     0     1     1     2     3     4     5     6     2     7  ...       3   \n",
       "2     0     1     1     2     3     4     5     6     2     7  ...      19   \n",
       "3     0     1     1     2     3     4     5     6     2     7  ...       4   \n",
       "4     0     1     1     2     3     4     5     6     2     7  ...      19   \n",
       "\n",
       "   aa_730  aa_731  aa_732  aa_733  aa_734  aa_735  aa_736  aa_737  aa_738  \n",
       "0      12       4       5      19      12       9     5.0    20.0     NaN  \n",
       "1      19      12       4       5      19      12     9.0     5.0    20.0  \n",
       "2      12       4       5      19      12       9     5.0    20.0     NaN  \n",
       "3       5      19      12       9       5      20     NaN     NaN     NaN  \n",
       "4      12       4       5      19      12       9     5.0    20.0     NaN  \n",
       "\n",
       "[5 rows x 739 columns]"
      ]
     },
     "execution_count": 89,
     "metadata": {},
     "output_type": "execute_result"
    }
   ],
   "source": [
    "seq_mapped = token_seq.map(lambda x: aa_mapping.get(x))\n",
    "seq_mapped"
   ]
  },
  {
   "cell_type": "code",
   "execution_count": 90,
   "metadata": {},
   "outputs": [
    {
     "data": {
      "text/html": [
       "<div>\n",
       "<style scoped>\n",
       "    .dataframe tbody tr th:only-of-type {\n",
       "        vertical-align: middle;\n",
       "    }\n",
       "\n",
       "    .dataframe tbody tr th {\n",
       "        vertical-align: top;\n",
       "    }\n",
       "\n",
       "    .dataframe thead th {\n",
       "        text-align: right;\n",
       "    }\n",
       "</style>\n",
       "<table border=\"1\" class=\"dataframe\">\n",
       "  <thead>\n",
       "    <tr style=\"text-align: right;\">\n",
       "      <th></th>\n",
       "      <th>aa_0</th>\n",
       "      <th>aa_1</th>\n",
       "      <th>aa_2</th>\n",
       "      <th>aa_3</th>\n",
       "      <th>aa_4</th>\n",
       "      <th>aa_5</th>\n",
       "      <th>aa_6</th>\n",
       "      <th>aa_7</th>\n",
       "      <th>aa_8</th>\n",
       "      <th>aa_9</th>\n",
       "      <th>...</th>\n",
       "      <th>aa_729</th>\n",
       "      <th>aa_730</th>\n",
       "      <th>aa_731</th>\n",
       "      <th>aa_732</th>\n",
       "      <th>aa_733</th>\n",
       "      <th>aa_734</th>\n",
       "      <th>aa_735</th>\n",
       "      <th>aa_736</th>\n",
       "      <th>aa_737</th>\n",
       "      <th>aa_738</th>\n",
       "    </tr>\n",
       "  </thead>\n",
       "  <tbody>\n",
       "    <tr>\n",
       "      <th>0</th>\n",
       "      <td>0</td>\n",
       "      <td>1</td>\n",
       "      <td>1</td>\n",
       "      <td>2</td>\n",
       "      <td>3</td>\n",
       "      <td>4</td>\n",
       "      <td>5</td>\n",
       "      <td>6</td>\n",
       "      <td>2</td>\n",
       "      <td>7</td>\n",
       "      <td>...</td>\n",
       "      <td>19</td>\n",
       "      <td>12</td>\n",
       "      <td>4</td>\n",
       "      <td>5</td>\n",
       "      <td>19</td>\n",
       "      <td>12</td>\n",
       "      <td>9</td>\n",
       "      <td>5.0</td>\n",
       "      <td>20.0</td>\n",
       "      <td>21.0</td>\n",
       "    </tr>\n",
       "    <tr>\n",
       "      <th>1</th>\n",
       "      <td>0</td>\n",
       "      <td>1</td>\n",
       "      <td>1</td>\n",
       "      <td>2</td>\n",
       "      <td>3</td>\n",
       "      <td>4</td>\n",
       "      <td>5</td>\n",
       "      <td>6</td>\n",
       "      <td>2</td>\n",
       "      <td>7</td>\n",
       "      <td>...</td>\n",
       "      <td>3</td>\n",
       "      <td>19</td>\n",
       "      <td>12</td>\n",
       "      <td>4</td>\n",
       "      <td>5</td>\n",
       "      <td>19</td>\n",
       "      <td>12</td>\n",
       "      <td>9.0</td>\n",
       "      <td>5.0</td>\n",
       "      <td>20.0</td>\n",
       "    </tr>\n",
       "    <tr>\n",
       "      <th>2</th>\n",
       "      <td>0</td>\n",
       "      <td>1</td>\n",
       "      <td>1</td>\n",
       "      <td>2</td>\n",
       "      <td>3</td>\n",
       "      <td>4</td>\n",
       "      <td>5</td>\n",
       "      <td>6</td>\n",
       "      <td>2</td>\n",
       "      <td>7</td>\n",
       "      <td>...</td>\n",
       "      <td>19</td>\n",
       "      <td>12</td>\n",
       "      <td>4</td>\n",
       "      <td>5</td>\n",
       "      <td>19</td>\n",
       "      <td>12</td>\n",
       "      <td>9</td>\n",
       "      <td>5.0</td>\n",
       "      <td>20.0</td>\n",
       "      <td>21.0</td>\n",
       "    </tr>\n",
       "    <tr>\n",
       "      <th>3</th>\n",
       "      <td>0</td>\n",
       "      <td>1</td>\n",
       "      <td>1</td>\n",
       "      <td>2</td>\n",
       "      <td>3</td>\n",
       "      <td>4</td>\n",
       "      <td>5</td>\n",
       "      <td>6</td>\n",
       "      <td>2</td>\n",
       "      <td>7</td>\n",
       "      <td>...</td>\n",
       "      <td>4</td>\n",
       "      <td>5</td>\n",
       "      <td>19</td>\n",
       "      <td>12</td>\n",
       "      <td>9</td>\n",
       "      <td>5</td>\n",
       "      <td>20</td>\n",
       "      <td>21.0</td>\n",
       "      <td>21.0</td>\n",
       "      <td>21.0</td>\n",
       "    </tr>\n",
       "    <tr>\n",
       "      <th>4</th>\n",
       "      <td>0</td>\n",
       "      <td>1</td>\n",
       "      <td>1</td>\n",
       "      <td>2</td>\n",
       "      <td>3</td>\n",
       "      <td>4</td>\n",
       "      <td>5</td>\n",
       "      <td>6</td>\n",
       "      <td>2</td>\n",
       "      <td>7</td>\n",
       "      <td>...</td>\n",
       "      <td>19</td>\n",
       "      <td>12</td>\n",
       "      <td>4</td>\n",
       "      <td>5</td>\n",
       "      <td>19</td>\n",
       "      <td>12</td>\n",
       "      <td>9</td>\n",
       "      <td>5.0</td>\n",
       "      <td>20.0</td>\n",
       "      <td>21.0</td>\n",
       "    </tr>\n",
       "  </tbody>\n",
       "</table>\n",
       "<p>5 rows × 739 columns</p>\n",
       "</div>"
      ],
      "text/plain": [
       "   aa_0  aa_1  aa_2  aa_3  aa_4  aa_5  aa_6  aa_7  aa_8  aa_9  ...  aa_729  \\\n",
       "0     0     1     1     2     3     4     5     6     2     7  ...      19   \n",
       "1     0     1     1     2     3     4     5     6     2     7  ...       3   \n",
       "2     0     1     1     2     3     4     5     6     2     7  ...      19   \n",
       "3     0     1     1     2     3     4     5     6     2     7  ...       4   \n",
       "4     0     1     1     2     3     4     5     6     2     7  ...      19   \n",
       "\n",
       "   aa_730  aa_731  aa_732  aa_733  aa_734  aa_735  aa_736  aa_737  aa_738  \n",
       "0      12       4       5      19      12       9     5.0    20.0    21.0  \n",
       "1      19      12       4       5      19      12     9.0     5.0    20.0  \n",
       "2      12       4       5      19      12       9     5.0    20.0    21.0  \n",
       "3       5      19      12       9       5      20    21.0    21.0    21.0  \n",
       "4      12       4       5      19      12       9     5.0    20.0    21.0  \n",
       "\n",
       "[5 rows x 739 columns]"
      ]
     },
     "execution_count": 90,
     "metadata": {},
     "output_type": "execute_result"
    }
   ],
   "source": [
    "seq_mapped.fillna(21, inplace=True)\n",
    "seq_mapped"
   ]
  },
  {
   "cell_type": "code",
   "execution_count": 91,
   "metadata": {},
   "outputs": [
    {
     "name": "stdout",
     "output_type": "stream",
     "text": [
      "<class 'torch.Tensor'>\n"
     ]
    },
    {
     "data": {
      "text/plain": [
       "tensor([[[1, 0, 0,  ..., 0, 0, 0],\n",
       "         [0, 1, 0,  ..., 0, 0, 0],\n",
       "         [0, 1, 0,  ..., 0, 0, 0],\n",
       "         ...,\n",
       "         [0, 0, 0,  ..., 0, 0, 0],\n",
       "         [0, 0, 0,  ..., 0, 1, 0],\n",
       "         [0, 0, 0,  ..., 0, 0, 1]],\n",
       "\n",
       "        [[1, 0, 0,  ..., 0, 0, 0],\n",
       "         [0, 1, 0,  ..., 0, 0, 0],\n",
       "         [0, 1, 0,  ..., 0, 0, 0],\n",
       "         ...,\n",
       "         [0, 0, 0,  ..., 0, 0, 0],\n",
       "         [0, 0, 0,  ..., 0, 0, 0],\n",
       "         [0, 0, 0,  ..., 0, 1, 0]],\n",
       "\n",
       "        [[1, 0, 0,  ..., 0, 0, 0],\n",
       "         [0, 1, 0,  ..., 0, 0, 0],\n",
       "         [0, 1, 0,  ..., 0, 0, 0],\n",
       "         ...,\n",
       "         [0, 0, 0,  ..., 0, 0, 0],\n",
       "         [0, 0, 0,  ..., 0, 1, 0],\n",
       "         [0, 0, 0,  ..., 0, 0, 1]],\n",
       "\n",
       "        [[1, 0, 0,  ..., 0, 0, 0],\n",
       "         [0, 1, 0,  ..., 0, 0, 0],\n",
       "         [0, 1, 0,  ..., 0, 0, 0],\n",
       "         ...,\n",
       "         [0, 0, 0,  ..., 0, 0, 1],\n",
       "         [0, 0, 0,  ..., 0, 0, 1],\n",
       "         [0, 0, 0,  ..., 0, 0, 1]],\n",
       "\n",
       "        [[1, 0, 0,  ..., 0, 0, 0],\n",
       "         [0, 1, 0,  ..., 0, 0, 0],\n",
       "         [0, 1, 0,  ..., 0, 0, 0],\n",
       "         ...,\n",
       "         [0, 0, 0,  ..., 0, 0, 0],\n",
       "         [0, 0, 0,  ..., 0, 1, 0],\n",
       "         [0, 0, 0,  ..., 0, 0, 1]]])"
      ]
     },
     "execution_count": 91,
     "metadata": {},
     "output_type": "execute_result"
    }
   ],
   "source": [
    "import torch.nn.functional as F\n",
    "seq_tensor = torch.tensor(seq_mapped.values)\n",
    "print(type(seq_tensor))\n",
    "long_seq_tensor = seq_tensor.long()\n",
    "one_hot1 = F.one_hot(long_seq_tensor, num_classes=len(aa_mapping))\n",
    "one_hot1"
   ]
  },
  {
   "cell_type": "code",
   "execution_count": 92,
   "metadata": {},
   "outputs": [
    {
     "data": {
      "text/plain": [
       "torch.Size([5, 739, 22])"
      ]
     },
     "execution_count": 92,
     "metadata": {},
     "output_type": "execute_result"
    }
   ],
   "source": [
    "one_hot1.shape"
   ]
  },
  {
   "cell_type": "code",
   "execution_count": 93,
   "metadata": {},
   "outputs": [
    {
     "data": {
      "text/plain": [
       "739"
      ]
     },
     "execution_count": 93,
     "metadata": {},
     "output_type": "execute_result"
    }
   ],
   "source": [
    "one_hot1.shape[1]"
   ]
  },
  {
   "cell_type": "code",
   "execution_count": 94,
   "metadata": {},
   "outputs": [
    {
     "data": {
      "text/plain": [
       "tensor([[1, 0, 0,  ..., 0, 0, 1],\n",
       "        [1, 0, 0,  ..., 0, 1, 0],\n",
       "        [1, 0, 0,  ..., 0, 0, 1],\n",
       "        [1, 0, 0,  ..., 0, 0, 1],\n",
       "        [1, 0, 0,  ..., 0, 0, 1]])"
      ]
     },
     "execution_count": 94,
     "metadata": {},
     "output_type": "execute_result"
    }
   ],
   "source": [
    "one_hot1_2d = one_hot1.view(one_hot1.shape[0], one_hot1.shape[1] * one_hot1.shape[2])\n",
    "one_hot1_2d"
   ]
  },
  {
   "cell_type": "code",
   "execution_count": 95,
   "metadata": {},
   "outputs": [
    {
     "data": {
      "text/plain": [
       "torch.Size([5, 16258])"
      ]
     },
     "execution_count": 95,
     "metadata": {},
     "output_type": "execute_result"
    }
   ],
   "source": [
    "one_hot1_2d.shape"
   ]
  },
  {
   "cell_type": "code",
   "execution_count": 96,
   "metadata": {},
   "outputs": [
    {
     "data": {
      "text/plain": [
       "tensor([[1.],\n",
       "        [1.],\n",
       "        [0.],\n",
       "        [1.],\n",
       "        [1.]], dtype=torch.float64)"
      ]
     },
     "execution_count": 96,
     "metadata": {},
     "output_type": "execute_result"
    }
   ],
   "source": [
    "r0_counts = (torch.tensor(r01['count_r0'].values)).view(-1,1)\n",
    "r0_counts"
   ]
  },
  {
   "cell_type": "code",
   "execution_count": 97,
   "metadata": {},
   "outputs": [
    {
     "data": {
      "text/plain": [
       "tensor([[0.],\n",
       "        [0.],\n",
       "        [1.],\n",
       "        [0.],\n",
       "        [0.]], dtype=torch.float64)"
      ]
     },
     "execution_count": 97,
     "metadata": {},
     "output_type": "execute_result"
    }
   ],
   "source": [
    "r1_counts = (torch.tensor(r01['count_r1'].values)).view(-1,1)\n",
    "r1_counts"
   ]
  },
  {
   "cell_type": "code",
   "execution_count": 98,
   "metadata": {},
   "outputs": [
    {
     "name": "stdout",
     "output_type": "stream",
     "text": [
      "torch.Size([5, 1])\n",
      "torch.Size([5, 1])\n"
     ]
    }
   ],
   "source": [
    "print(r0_counts.shape)\n",
    "print(r1_counts.shape)"
   ]
  },
  {
   "cell_type": "code",
   "execution_count": 99,
   "metadata": {},
   "outputs": [
    {
     "data": {
      "text/plain": [
       "torch.Tensor"
      ]
     },
     "execution_count": 99,
     "metadata": {},
     "output_type": "execute_result"
    }
   ],
   "source": [
    "type(r0_counts)"
   ]
  },
  {
   "cell_type": "code",
   "execution_count": 100,
   "metadata": {},
   "outputs": [],
   "source": [
    "r0_sum = torch.sum(r0_counts)\n",
    "r1_sum = torch.sum(r1_counts)"
   ]
  },
  {
   "cell_type": "code",
   "execution_count": 101,
   "metadata": {},
   "outputs": [],
   "source": [
    "r0_counts = r0_counts/r0_sum\n",
    "r1_counts = r1_counts/r1_sum"
   ]
  },
  {
   "cell_type": "code",
   "execution_count": 102,
   "metadata": {},
   "outputs": [],
   "source": [
    "data_tensor = torch.concat((r0_counts, r1_counts, one_hot1_2d), dim=1)"
   ]
  },
  {
   "cell_type": "code",
   "execution_count": 103,
   "metadata": {},
   "outputs": [
    {
     "data": {
      "text/plain": [
       "torch.Size([5, 16260])"
      ]
     },
     "execution_count": 103,
     "metadata": {},
     "output_type": "execute_result"
    }
   ],
   "source": [
    "data_tensor.shape"
   ]
  },
  {
   "cell_type": "code",
   "execution_count": 104,
   "metadata": {},
   "outputs": [],
   "source": [
    "torch.save(data_tensor, 'stored_data_tensor.pt')"
   ]
  },
  {
   "cell_type": "code",
   "execution_count": 3,
   "metadata": {},
   "outputs": [
    {
     "name": "stderr",
     "output_type": "stream",
     "text": [
      "/tmp/ipykernel_44203/89510504.py:1: UserWarning: To copy construct from a tensor, it is recommended to use sourceTensor.clone().detach() or sourceTensor.clone().detach().requires_grad_(True), rather than torch.tensor(sourceTensor).\n",
      "  data_tensor = torch.tensor((torch.load('stored_data_tensor.pt')))\n"
     ]
    }
   ],
   "source": [
    "data_tensor = torch.tensor((torch.load('stored_data_tensor.pt')))"
   ]
  },
  {
   "cell_type": "code",
   "execution_count": 105,
   "metadata": {},
   "outputs": [
    {
     "data": {
      "text/plain": [
       "tensor([[0.2500, 0.0000, 1.0000,  ..., 0.0000, 0.0000, 1.0000],\n",
       "        [0.2500, 0.0000, 1.0000,  ..., 0.0000, 1.0000, 0.0000],\n",
       "        [0.0000, 1.0000, 1.0000,  ..., 0.0000, 0.0000, 1.0000],\n",
       "        [0.2500, 0.0000, 1.0000,  ..., 0.0000, 0.0000, 1.0000],\n",
       "        [0.2500, 0.0000, 1.0000,  ..., 0.0000, 0.0000, 1.0000]],\n",
       "       dtype=torch.float64)"
      ]
     },
     "execution_count": 105,
     "metadata": {},
     "output_type": "execute_result"
    }
   ],
   "source": [
    "data_tensor"
   ]
  },
  {
   "cell_type": "code",
   "execution_count": 106,
   "metadata": {},
   "outputs": [],
   "source": [
    "# Start desigining the model\n",
    "\n",
    "# Split the data:\n",
    "# from torch.utils.data import TensorDataset, random_split\n",
    "######################################\n",
    "# if type(data_tensor) == pd.DataFrame:\n",
    "#     data_tensor = torch.tensor(data_tensor.values)\n",
    "\n",
    "# dataset = TensorDataset(data_tensor)"
   ]
  },
  {
   "cell_type": "code",
   "execution_count": 138,
   "metadata": {},
   "outputs": [],
   "source": [
    "training_data, validation_data = train_test_split(data_tensor, train_size=0.8, test_size=0.2, shuffle=True, random_state=42)"
   ]
  },
  {
   "cell_type": "code",
   "execution_count": 146,
   "metadata": {},
   "outputs": [],
   "source": [
    "class AADataset(Dataset):\n",
    "    \n",
    "    def __init__(self, data):\n",
    "        super().__init__()\n",
    "        \n",
    "        self.sample_size = (data.size())[1]\n",
    "\n",
    "        self.indep = torch.cat((data[:,:1], data[:,2:]), dim = 1)\n",
    "        self.dep = data[:,1]\n",
    "        \n",
    "\n",
    "    def __getitem__(self, index):\n",
    "        return self.indep[index], self.dep[index]\n",
    "\n",
    "    def __len__(self):\n",
    "        return self.sample_size\n",
    "    \n",
    "    def get_cols(self):\n",
    "        return self.indep.shape[1]"
   ]
  },
  {
   "cell_type": "code",
   "execution_count": 148,
   "metadata": {},
   "outputs": [],
   "source": [
    "t_ds = AADataset(training_data)\n",
    "v_ds = AADataset(validation_data)"
   ]
  },
  {
   "cell_type": "code",
   "execution_count": null,
   "metadata": {},
   "outputs": [],
   "source": []
  },
  {
   "cell_type": "code",
   "execution_count": 118,
   "metadata": {},
   "outputs": [],
   "source": [
    "# # Determine the sizes for the splits\n",
    "# total_size = len(dataset)\n",
    "# split_80 = int(total_size * 0.8)\n",
    "# split_20 = total_size - split_80\n",
    "\n",
    "# # Split the dataset\n",
    "# train_dataset, validation_dataset = random_split(dataset, [split_80, split_20])\n",
    "\n",
    "# # Convert the subsets back to tensors\n",
    "# train_data = torch.stack([x[0] for x in train_dataset])\n",
    "# validation_data = torch.stack([x[0] for x in validation_dataset])"
   ]
  },
  {
   "cell_type": "code",
   "execution_count": 119,
   "metadata": {},
   "outputs": [],
   "source": [
    "# In theory you shouldn't need this...\n",
    "\n",
    "# del dataset\n",
    "# del split_20\n",
    "# del split_80\n",
    "# del data_tensor\n",
    "# del train_dataset\n",
    "# del validation_dataset\n"
   ]
  },
  {
   "cell_type": "code",
   "execution_count": 120,
   "metadata": {},
   "outputs": [],
   "source": [
    "# t_indep = torch.cat((train_data[:,:1], train_data[:,2:]), dim = 1)\n",
    "# v_indep = torch.cat((validation_data[:,:1], validation_data[:,2:]), dim = 1)\n",
    "\n",
    "# t_dep = train_data[:,1]\n",
    "# v_dep = validation_data[:,1]"
   ]
  },
  {
   "cell_type": "code",
   "execution_count": 122,
   "metadata": {},
   "outputs": [
    {
     "data": {
      "text/plain": [
       "16259"
      ]
     },
     "execution_count": 122,
     "metadata": {},
     "output_type": "execute_result"
    }
   ],
   "source": [
    "n_coeffs = dataset.t_indep.shape[1]\n",
    "n_coeffs"
   ]
  },
  {
   "cell_type": "code",
   "execution_count": 123,
   "metadata": {},
   "outputs": [
    {
     "data": {
      "text/plain": [
       "tensor([-0.0107, -0.1504, -0.4107,  ..., -0.4269, -0.2917, -0.4008])"
      ]
     },
     "execution_count": 123,
     "metadata": {},
     "output_type": "execute_result"
    }
   ],
   "source": [
    "coeffs = torch.rand(n_coeffs)-0.5\n",
    "coeffs"
   ]
  },
  {
   "cell_type": "code",
   "execution_count": 43,
   "metadata": {},
   "outputs": [],
   "source": [
    "# Function to calcualte predictions\n",
    "def calc_preds(coeffs, indeps): return (indeps*coeffs).sum(axis=1) # axis = 1 because we want to sum the rows \n",
    "\n",
    "# Function to calcualte loss:\n",
    "def calc_loss(coeffs, indeps, deps): return torch.abs(calc_preds(coeffs, indeps)-deps).mean()"
   ]
  },
  {
   "cell_type": "code",
   "execution_count": 44,
   "metadata": {},
   "outputs": [],
   "source": [
    "def one_batch(batch, coeffs, lr):\n",
    "    loss = calc_loss(coeffs, batch[0], batch[1])\n",
    "    loss.backward() # Calculates the graident\n",
    "    with torch.no_grad(): update_coeffs(coeffs, lr)\n",
    "    return loss\n",
    "\n",
    "def update_coeffs(coeffs, lr):\n",
    "    coeffs.sub_(coeffs.grad * lr)\n",
    "    coeffs.grad.zero_()\n",
    "\n",
    "def one_epoch(coeffs, lr):\n",
    "    for b in \n",
    "    loss = calc_loss(coeffs, dataset.t_indep, dataset.t_dep)\n",
    "    # loss.backward() # Calculates the graident\n",
    "    # with torch.no_grad(): update_coeffs(coeffs, lr)\n",
    "    print(f\"{loss:.3f}\", end=\"; \")\n",
    "\n",
    "def init_coeffs(): return (torch.rand(n_coeffs)-0.5).requires_grad_()"
   ]
  },
  {
   "cell_type": "code",
   "execution_count": 45,
   "metadata": {},
   "outputs": [],
   "source": [
    "def train_model(epochs=30, lr=0.01):\n",
    "    torch.manual_seed(442)\n",
    "    coeffs = init_coeffs()\n",
    "\n",
    "    for i in range(epochs): one_epoch(coeffs, lr=lr)\n",
    "    return coeffs"
   ]
  },
  {
   "cell_type": "code",
   "execution_count": null,
   "metadata": {},
   "outputs": [],
   "source": []
  },
  {
   "cell_type": "code",
   "execution_count": 46,
   "metadata": {},
   "outputs": [
    {
     "name": "stdout",
     "output_type": "stream",
     "text": [
      "coefficients were initialized\n",
      "Calculated loss\n",
      "Calculated gradients\n",
      "2.831; "
     ]
    }
   ],
   "source": [
    "coeffs = train_model(1, 0.2)"
   ]
  },
  {
   "cell_type": "code",
   "execution_count": null,
   "metadata": {},
   "outputs": [],
   "source": []
  }
 ],
 "metadata": {
  "kernelspec": {
   "display_name": "Python 3",
   "language": "python",
   "name": "python3"
  },
  "language_info": {
   "codemirror_mode": {
    "name": "ipython",
    "version": 3
   },
   "file_extension": ".py",
   "mimetype": "text/x-python",
   "name": "python",
   "nbconvert_exporter": "python",
   "pygments_lexer": "ipython3",
   "version": "3.12.3"
  }
 },
 "nbformat": 4,
 "nbformat_minor": 2
}
